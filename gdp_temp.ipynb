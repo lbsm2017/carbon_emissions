{
  "nbformat": 4,
  "nbformat_minor": 0,
  "metadata": {
    "colab": {
      "provenance": [],
      "authorship_tag": "ABX9TyPiqSeQ3mHEj8e5TSD1HXll",
      "include_colab_link": true
    },
    "kernelspec": {
      "name": "python3",
      "display_name": "Python 3"
    },
    "language_info": {
      "name": "python"
    }
  },
  "cells": [
    {
      "cell_type": "markdown",
      "metadata": {
        "id": "view-in-github",
        "colab_type": "text"
      },
      "source": [
        "<a href=\"https://colab.research.google.com/github/shokru/carbon_emissions/blob/main/gdp_temp.ipynb\" target=\"_parent\"><img src=\"https://colab.research.google.com/assets/colab-badge.svg\" alt=\"Open In Colab\"/></a>"
      ]
    },
    {
      "cell_type": "markdown",
      "metadata": {
        "id": "04tL2VGNl0qn"
      },
      "source": [
        "# Economic output and temperature dynamics"
      ]
    },
    {
      "cell_type": "code",
      "metadata": {
        "id": "P_dWt7k5ltvh"
      },
      "source": [
        "import pandas as pd                      # This library is for data wrangling\n",
        "import seaborn as sns                    # This is one library for plotting\n",
        "import matplotlib.pyplot as plt          # Yet another library for visualization\n",
        "import plotly.express as px              # This is another library for plots \n",
        "import statsmodels.api as sm             # For the Granger causality test\n",
        "from statsmodels.tsa.stattools import grangercausalitytests\n",
        "import numpy as np\n",
        "pd.set_option('display.max_rows', 6)     # First 3 and last 3 rows will be shown\n",
        "import warnings                          # This is to remove warning to keep output clean\n",
        "warnings.filterwarnings('ignore')"
      ],
      "execution_count": 1,
      "outputs": []
    },
    {
      "cell_type": "markdown",
      "metadata": {
        "id": "z0GvDI76mJUE"
      },
      "source": [
        "## Temperature data\n",
        "\n",
        "There are several sources for global temperatures. All in all, it seems that this does not matter much. As [Wikipedia](https://en.wikipedia.org/wiki/Global_temperature_record) notes: '*Global average temperature datasets from NASA, NOAA, Berkeley Earth, and meteorological offices of the U.K. and Japan, show substantial agreement concerning the progress and extent of global warming: pairwise correlations range from 98.09% to 99.04%.*'\n",
        "\n",
        "First, let's download global annual temperatures from the **NASA** (see the page https://climate.nasa.gov/vital-signs/global-temperature/).  \n",
        "The values related to the difference with **pre-industrial periods**.  \n",
        "This is often taken to be 1850-1900, though it's unclear if this is the base choice in the NASA's data.\n",
        "\n",
        "In full disclosure, we also mention the outstanding [tutorial](https://climateestimate.net/content/getting-started.html) from 4 climate & data researchers. It goes in much more depth and provides code both in R & Python."
      ]
    },
    {
      "cell_type": "code",
      "metadata": {
        "colab": {
          "base_uri": "https://localhost:8080/",
          "height": 298
        },
        "id": "5WVXYUxJl7Bi",
        "outputId": "a71e40e2-2715-4f2c-b1df-f7659d2554b2"
      },
      "source": [
        "url = 'https://data.giss.nasa.gov/gistemp/graphs/graph_data/Global_Mean_Estimates_based_on_Land_and_Ocean_Data/graph.txt'\n",
        "data_temp = pd.read_csv(url, skiprows = 4, sep='\\r\\t')  \n",
        "data_temp = data_temp.iloc[0:,0].str.split(expand = True)\n",
        "data_temp = data_temp.rename(columns = {0: 'Year', 1: 'Temperature', 2: 'Smoothing'})\n",
        "data_temp['Temperature'] = pd.to_numeric(data_temp['Temperature']) # Translate to number\n",
        "data_temp['Smoothing'] = pd.to_numeric(data_temp['Smoothing'])     # Translate to number\n",
        "data_temp['Year'] = pd.to_numeric(data_temp['Year'])               # Translate to number\n",
        "data_temp"
      ],
      "execution_count": 3,
      "outputs": [
        {
          "output_type": "execute_result",
          "data": {
            "text/plain": [
              "     Year  Temperature  Smoothing\n",
              "0    1880        -0.16      -0.09\n",
              "1    1881        -0.08      -0.13\n",
              "2    1882        -0.11      -0.16\n",
              "..    ...          ...        ...\n",
              "140  2020         1.02       0.92\n",
              "141  2021         0.85       0.91\n",
              "142  2022         0.89       0.90\n",
              "\n",
              "[143 rows x 3 columns]"
            ],
            "text/html": [
              "\n",
              "  <div id=\"df-10abcc39-5ec3-4201-9a5d-dbbc8db945ae\">\n",
              "    <div class=\"colab-df-container\">\n",
              "      <div>\n",
              "<style scoped>\n",
              "    .dataframe tbody tr th:only-of-type {\n",
              "        vertical-align: middle;\n",
              "    }\n",
              "\n",
              "    .dataframe tbody tr th {\n",
              "        vertical-align: top;\n",
              "    }\n",
              "\n",
              "    .dataframe thead th {\n",
              "        text-align: right;\n",
              "    }\n",
              "</style>\n",
              "<table border=\"1\" class=\"dataframe\">\n",
              "  <thead>\n",
              "    <tr style=\"text-align: right;\">\n",
              "      <th></th>\n",
              "      <th>Year</th>\n",
              "      <th>Temperature</th>\n",
              "      <th>Smoothing</th>\n",
              "    </tr>\n",
              "  </thead>\n",
              "  <tbody>\n",
              "    <tr>\n",
              "      <th>0</th>\n",
              "      <td>1880</td>\n",
              "      <td>-0.16</td>\n",
              "      <td>-0.09</td>\n",
              "    </tr>\n",
              "    <tr>\n",
              "      <th>1</th>\n",
              "      <td>1881</td>\n",
              "      <td>-0.08</td>\n",
              "      <td>-0.13</td>\n",
              "    </tr>\n",
              "    <tr>\n",
              "      <th>2</th>\n",
              "      <td>1882</td>\n",
              "      <td>-0.11</td>\n",
              "      <td>-0.16</td>\n",
              "    </tr>\n",
              "    <tr>\n",
              "      <th>...</th>\n",
              "      <td>...</td>\n",
              "      <td>...</td>\n",
              "      <td>...</td>\n",
              "    </tr>\n",
              "    <tr>\n",
              "      <th>140</th>\n",
              "      <td>2020</td>\n",
              "      <td>1.02</td>\n",
              "      <td>0.92</td>\n",
              "    </tr>\n",
              "    <tr>\n",
              "      <th>141</th>\n",
              "      <td>2021</td>\n",
              "      <td>0.85</td>\n",
              "      <td>0.91</td>\n",
              "    </tr>\n",
              "    <tr>\n",
              "      <th>142</th>\n",
              "      <td>2022</td>\n",
              "      <td>0.89</td>\n",
              "      <td>0.90</td>\n",
              "    </tr>\n",
              "  </tbody>\n",
              "</table>\n",
              "<p>143 rows × 3 columns</p>\n",
              "</div>\n",
              "      <button class=\"colab-df-convert\" onclick=\"convertToInteractive('df-10abcc39-5ec3-4201-9a5d-dbbc8db945ae')\"\n",
              "              title=\"Convert this dataframe to an interactive table.\"\n",
              "              style=\"display:none;\">\n",
              "        \n",
              "  <svg xmlns=\"http://www.w3.org/2000/svg\" height=\"24px\"viewBox=\"0 0 24 24\"\n",
              "       width=\"24px\">\n",
              "    <path d=\"M0 0h24v24H0V0z\" fill=\"none\"/>\n",
              "    <path d=\"M18.56 5.44l.94 2.06.94-2.06 2.06-.94-2.06-.94-.94-2.06-.94 2.06-2.06.94zm-11 1L8.5 8.5l.94-2.06 2.06-.94-2.06-.94L8.5 2.5l-.94 2.06-2.06.94zm10 10l.94 2.06.94-2.06 2.06-.94-2.06-.94-.94-2.06-.94 2.06-2.06.94z\"/><path d=\"M17.41 7.96l-1.37-1.37c-.4-.4-.92-.59-1.43-.59-.52 0-1.04.2-1.43.59L10.3 9.45l-7.72 7.72c-.78.78-.78 2.05 0 2.83L4 21.41c.39.39.9.59 1.41.59.51 0 1.02-.2 1.41-.59l7.78-7.78 2.81-2.81c.8-.78.8-2.07 0-2.86zM5.41 20L4 18.59l7.72-7.72 1.47 1.35L5.41 20z\"/>\n",
              "  </svg>\n",
              "      </button>\n",
              "      \n",
              "  <style>\n",
              "    .colab-df-container {\n",
              "      display:flex;\n",
              "      flex-wrap:wrap;\n",
              "      gap: 12px;\n",
              "    }\n",
              "\n",
              "    .colab-df-convert {\n",
              "      background-color: #E8F0FE;\n",
              "      border: none;\n",
              "      border-radius: 50%;\n",
              "      cursor: pointer;\n",
              "      display: none;\n",
              "      fill: #1967D2;\n",
              "      height: 32px;\n",
              "      padding: 0 0 0 0;\n",
              "      width: 32px;\n",
              "    }\n",
              "\n",
              "    .colab-df-convert:hover {\n",
              "      background-color: #E2EBFA;\n",
              "      box-shadow: 0px 1px 2px rgba(60, 64, 67, 0.3), 0px 1px 3px 1px rgba(60, 64, 67, 0.15);\n",
              "      fill: #174EA6;\n",
              "    }\n",
              "\n",
              "    [theme=dark] .colab-df-convert {\n",
              "      background-color: #3B4455;\n",
              "      fill: #D2E3FC;\n",
              "    }\n",
              "\n",
              "    [theme=dark] .colab-df-convert:hover {\n",
              "      background-color: #434B5C;\n",
              "      box-shadow: 0px 1px 3px 1px rgba(0, 0, 0, 0.15);\n",
              "      filter: drop-shadow(0px 1px 2px rgba(0, 0, 0, 0.3));\n",
              "      fill: #FFFFFF;\n",
              "    }\n",
              "  </style>\n",
              "\n",
              "      <script>\n",
              "        const buttonEl =\n",
              "          document.querySelector('#df-10abcc39-5ec3-4201-9a5d-dbbc8db945ae button.colab-df-convert');\n",
              "        buttonEl.style.display =\n",
              "          google.colab.kernel.accessAllowed ? 'block' : 'none';\n",
              "\n",
              "        async function convertToInteractive(key) {\n",
              "          const element = document.querySelector('#df-10abcc39-5ec3-4201-9a5d-dbbc8db945ae');\n",
              "          const dataTable =\n",
              "            await google.colab.kernel.invokeFunction('convertToInteractive',\n",
              "                                                     [key], {});\n",
              "          if (!dataTable) return;\n",
              "\n",
              "          const docLinkHtml = 'Like what you see? Visit the ' +\n",
              "            '<a target=\"_blank\" href=https://colab.research.google.com/notebooks/data_table.ipynb>data table notebook</a>'\n",
              "            + ' to learn more about interactive tables.';\n",
              "          element.innerHTML = '';\n",
              "          dataTable['output_type'] = 'display_data';\n",
              "          await google.colab.output.renderOutput(dataTable, element);\n",
              "          const docLink = document.createElement('div');\n",
              "          docLink.innerHTML = docLinkHtml;\n",
              "          element.appendChild(docLink);\n",
              "        }\n",
              "      </script>\n",
              "    </div>\n",
              "  </div>\n",
              "  "
            ]
          },
          "metadata": {},
          "execution_count": 3
        }
      ]
    },
    {
      "cell_type": "code",
      "metadata": {
        "colab": {
          "base_uri": "https://localhost:8080/",
          "height": 265
        },
        "id": "r_y7CV74WoLH",
        "outputId": "3bca0706-95c0-4e2a-f627-82d1ab78b285"
      },
      "source": [
        "plt.plot(data_temp.Year, data_temp.Temperature, label = \"Temperature\")\n",
        "plt.plot(data_temp.Year, data_temp.Smoothing, label = \"Smoothed\")\n",
        "plt.legend()\n",
        "plt.show()\n",
        "plt.rcParams[\"figure.figsize\"]=(10, 6)"
      ],
      "execution_count": 4,
      "outputs": [
        {
          "output_type": "display_data",
          "data": {
            "text/plain": [
              "<Figure size 432x288 with 1 Axes>"
            ],
            "image/png": "[encoded data removed]"
          },
          "metadata": {
            "needs_background": "light"
          }
        }
      ]
    },
    {
      "cell_type": "markdown",
      "metadata": {
        "id": "rgCeT7rNW9g6"
      },
      "source": [
        "The trend post-1960 seems pretty obvious (almost post-1900 if we omit World War II)."
      ]
    },
    {
      "cell_type": "markdown",
      "metadata": {
        "id": "2QlqhDEvnyAM"
      },
      "source": [
        "Next, GDP data from the **World Bank**."
      ]
    },
    {
      "cell_type": "code",
      "metadata": {
        "id": "coFtzDUBn2Wk",
        "colab": {
          "base_uri": "https://localhost:8080/",
          "height": 298
        },
        "outputId": "43b80beb-713c-44bd-e30c-0d2ce4daa30a"
      },
      "source": [
        "url = 'https://api.worldbank.org/v2/en/indicator/NY.GDP.MKTP.CD?downloadformat=excel'\n",
        "data_gdp = pd.read_excel(url, skiprows = 3) \n",
        "# Putting the data in long format below\n",
        "data_gdp = pd.wide_to_long(data_gdp.iloc[0:,0:65], \n",
        "                stubnames = [''], \n",
        "                i = ['Country Name', 'Country Code', 'Indicator Name', 'Indicator Code'],\n",
        "                j = 'Year').reset_index()\n",
        "data_gdp = data_gdp.rename(columns = {'Country Name': 'Country', '': 'GDP'})\n",
        "data_gdp"
      ],
      "execution_count": 5,
      "outputs": [
        {
          "output_type": "execute_result",
          "data": {
            "text/plain": [
              "        Country Country Code     Indicator Name  Indicator Code  Year  \\\n",
              "0         Aruba          ABW  GDP (current US$)  NY.GDP.MKTP.CD  1960   \n",
              "1         Aruba          ABW  GDP (current US$)  NY.GDP.MKTP.CD  1961   \n",
              "2         Aruba          ABW  GDP (current US$)  NY.GDP.MKTP.CD  1962   \n",
              "...         ...          ...                ...             ...   ...   \n",
              "16223  Zimbabwe          ZWE  GDP (current US$)  NY.GDP.MKTP.CD  2018   \n",
              "16224  Zimbabwe          ZWE  GDP (current US$)  NY.GDP.MKTP.CD  2019   \n",
              "16225  Zimbabwe          ZWE  GDP (current US$)  NY.GDP.MKTP.CD  2020   \n",
              "\n",
              "                GDP  \n",
              "0               NaN  \n",
              "1               NaN  \n",
              "2               NaN  \n",
              "...             ...  \n",
              "16223  3.415607e+10  \n",
              "16224  2.183223e+10  \n",
              "16225  2.150970e+10  \n",
              "\n",
              "[16226 rows x 6 columns]"
            ],
            "text/html": [
              "\n",
              "  <div id=\"df-9f0dd063-daa8-409b-b0d7-156fc7aef8de\">\n",
              "    <div class=\"colab-df-container\">\n",
              "      <div>\n",
              "<style scoped>\n",
              "    .dataframe tbody tr th:only-of-type {\n",
              "        vertical-align: middle;\n",
              "    }\n",
              "\n",
              "    .dataframe tbody tr th {\n",
              "        vertical-align: top;\n",
              "    }\n",
              "\n",
              "    .dataframe thead th {\n",
              "        text-align: right;\n",
              "    }\n",
              "</style>\n",
              "<table border=\"1\" class=\"dataframe\">\n",
              "  <thead>\n",
              "    <tr style=\"text-align: right;\">\n",
              "      <th></th>\n",
              "      <th>Country</th>\n",
              "      <th>Country Code</th>\n",
              "      <th>Indicator Name</th>\n",
              "      <th>Indicator Code</th>\n",
              "      <th>Year</th>\n",
              "      <th>GDP</th>\n",
              "    </tr>\n",
              "  </thead>\n",
              "  <tbody>\n",
              "    <tr>\n",
              "      <th>0</th>\n",
              "      <td>Aruba</td>\n",
              "      <td>ABW</td>\n",
              "      <td>GDP (current US$)</td>\n",
              "      <td>NY.GDP.MKTP.CD</td>\n",
              "      <td>1960</td>\n",
              "      <td>NaN</td>\n",
              "    </tr>\n",
              "    <tr>\n",
              "      <th>1</th>\n",
              "      <td>Aruba</td>\n",
              "      <td>ABW</td>\n",
              "      <td>GDP (current US$)</td>\n",
              "      <td>NY.GDP.MKTP.CD</td>\n",
              "      <td>1961</td>\n",
              "      <td>NaN</td>\n",
              "    </tr>\n",
              "    <tr>\n",
              "      <th>2</th>\n",
              "      <td>Aruba</td>\n",
              "      <td>ABW</td>\n",
              "      <td>GDP (current US$)</td>\n",
              "      <td>NY.GDP.MKTP.CD</td>\n",
              "      <td>1962</td>\n",
              "      <td>NaN</td>\n",
              "    </tr>\n",
              "    <tr>\n",
              "      <th>...</th>\n",
              "      <td>...</td>\n",
              "      <td>...</td>\n",
              "      <td>...</td>\n",
              "      <td>...</td>\n",
              "      <td>...</td>\n",
              "      <td>...</td>\n",
              "    </tr>\n",
              "    <tr>\n",
              "      <th>16223</th>\n",
              "      <td>Zimbabwe</td>\n",
              "      <td>ZWE</td>\n",
              "      <td>GDP (current US$)</td>\n",
              "      <td>NY.GDP.MKTP.CD</td>\n",
              "      <td>2018</td>\n",
              "      <td>3.415607e+10</td>\n",
              "    </tr>\n",
              "    <tr>\n",
              "      <th>16224</th>\n",
              "      <td>Zimbabwe</td>\n",
              "      <td>ZWE</td>\n",
              "      <td>GDP (current US$)</td>\n",
              "      <td>NY.GDP.MKTP.CD</td>\n",
              "      <td>2019</td>\n",
              "      <td>2.183223e+10</td>\n",
              "    </tr>\n",
              "    <tr>\n",
              "      <th>16225</th>\n",
              "      <td>Zimbabwe</td>\n",
              "      <td>ZWE</td>\n",
              "      <td>GDP (current US$)</td>\n",
              "      <td>NY.GDP.MKTP.CD</td>\n",
              "      <td>2020</td>\n",
              "      <td>2.150970e+10</td>\n",
              "    </tr>\n",
              "  </tbody>\n",
              "</table>\n",
              "<p>16226 rows × 6 columns</p>\n",
              "</div>\n",
              "      <button class=\"colab-df-convert\" onclick=\"convertToInteractive('df-9f0dd063-daa8-409b-b0d7-156fc7aef8de')\"\n",
              "              title=\"Convert this dataframe to an interactive table.\"\n",
              "              style=\"display:none;\">\n",
              "        \n",
              "  <svg xmlns=\"http://www.w3.org/2000/svg\" height=\"24px\"viewBox=\"0 0 24 24\"\n",
              "       width=\"24px\">\n",
              "    <path d=\"M0 0h24v24H0V0z\" fill=\"none\"/>\n",
              "    <path d=\"M18.56 5.44l.94 2.06.94-2.06 2.06-.94-2.06-.94-.94-2.06-.94 2.06-2.06.94zm-11 1L8.5 8.5l.94-2.06 2.06-.94-2.06-.94L8.5 2.5l-.94 2.06-2.06.94zm10 10l.94 2.06.94-2.06 2.06-.94-2.06-.94-.94-2.06-.94 2.06-2.06.94z\"/><path d=\"M17.41 7.96l-1.37-1.37c-.4-.4-.92-.59-1.43-.59-.52 0-1.04.2-1.43.59L10.3 9.45l-7.72 7.72c-.78.78-.78 2.05 0 2.83L4 21.41c.39.39.9.59 1.41.59.51 0 1.02-.2 1.41-.59l7.78-7.78 2.81-2.81c.8-.78.8-2.07 0-2.86zM5.41 20L4 18.59l7.72-7.72 1.47 1.35L5.41 20z\"/>\n",
              "  </svg>\n",
              "      </button>\n",
              "      \n",
              "  <style>\n",
              "    .colab-df-container {\n",
              "      display:flex;\n",
              "      flex-wrap:wrap;\n",
              "      gap: 12px;\n",
              "    }\n",
              "\n",
              "    .colab-df-convert {\n",
              "      background-color: #E8F0FE;\n",
              "      border: none;\n",
              "      border-radius: 50%;\n",
              "      cursor: pointer;\n",
              "      display: none;\n",
              "      fill: #1967D2;\n",
              "      height: 32px;\n",
              "      padding: 0 0 0 0;\n",
              "      width: 32px;\n",
              "    }\n",
              "\n",
              "    .colab-df-convert:hover {\n",
              "      background-color: #E2EBFA;\n",
              "      box-shadow: 0px 1px 2px rgba(60, 64, 67, 0.3), 0px 1px 3px 1px rgba(60, 64, 67, 0.15);\n",
              "      fill: #174EA6;\n",
              "    }\n",
              "\n",
              "    [theme=dark] .colab-df-convert {\n",
              "      background-color: #3B4455;\n",
              "      fill: #D2E3FC;\n",
              "    }\n",
              "\n",
              "    [theme=dark] .colab-df-convert:hover {\n",
              "      background-color: #434B5C;\n",
              "      box-shadow: 0px 1px 3px 1px rgba(0, 0, 0, 0.15);\n",
              "      filter: drop-shadow(0px 1px 2px rgba(0, 0, 0, 0.3));\n",
              "      fill: #FFFFFF;\n",
              "    }\n",
              "  </style>\n",
              "\n",
              "      <script>\n",
              "        const buttonEl =\n",
              "          document.querySelector('#df-9f0dd063-daa8-409b-b0d7-156fc7aef8de button.colab-df-convert');\n",
              "        buttonEl.style.display =\n",
              "          google.colab.kernel.accessAllowed ? 'block' : 'none';\n",
              "\n",
              "        async function convertToInteractive(key) {\n",
              "          const element = document.querySelector('#df-9f0dd063-daa8-409b-b0d7-156fc7aef8de');\n",
              "          const dataTable =\n",
              "            await google.colab.kernel.invokeFunction('convertToInteractive',\n",
              "                                                     [key], {});\n",
              "          if (!dataTable) return;\n",
              "\n",
              "          const docLinkHtml = 'Like what you see? Visit the ' +\n",
              "            '<a target=\"_blank\" href=https://colab.research.google.com/notebooks/data_table.ipynb>data table notebook</a>'\n",
              "            + ' to learn more about interactive tables.';\n",
              "          element.innerHTML = '';\n",
              "          dataTable['output_type'] = 'display_data';\n",
              "          await google.colab.output.renderOutput(dataTable, element);\n",
              "          const docLink = document.createElement('div');\n",
              "          docLink.innerHTML = docLinkHtml;\n",
              "          element.appendChild(docLink);\n",
              "        }\n",
              "      </script>\n",
              "    </div>\n",
              "  </div>\n",
              "  "
            ]
          },
          "metadata": {},
          "execution_count": 5
        }
      ]
    },
    {
      "cell_type": "markdown",
      "metadata": {
        "id": "nmrxjXBfAgyf"
      },
      "source": [
        "Below: a quick look at all **geographical zones** included in the sample: lots of **clusters**!"
      ]
    },
    {
      "cell_type": "code",
      "metadata": {
        "colab": {
          "base_uri": "https://localhost:8080/"
        },
        "id": "GYuSg4TN-8n1",
        "outputId": "9be04c24-4ed9-493a-9542-056bd88b19fb"
      },
      "source": [
        "data_gdp.Country.unique()"
      ],
      "execution_count": 6,
      "outputs": [
        {
          "output_type": "execute_result",
          "data": {
            "text/plain": [
              "array(['Aruba', 'Africa Eastern and Southern', 'Afghanistan',\n",
              "       'Africa Western and Central', 'Angola', 'Albania', 'Andorra',\n",
              "       'Arab World', 'United Arab Emirates', 'Argentina', 'Armenia',\n",
              "       'American Samoa', 'Antigua and Barbuda', 'Australia', 'Austria',\n",
              "       'Azerbaijan', 'Burundi', 'Belgium', 'Benin', 'Burkina Faso',\n",
              "       'Bangladesh', 'Bulgaria', 'Bahrain', 'Bahamas, The',\n",
              "       'Bosnia and Herzegovina', 'Belarus', 'Belize', 'Bermuda',\n",
              "       'Bolivia', 'Brazil', 'Barbados', 'Brunei Darussalam', 'Bhutan',\n",
              "       'Botswana', 'Central African Republic', 'Canada',\n",
              "       'Central Europe and the Baltics', 'Switzerland', 'Channel Islands',\n",
              "       'Chile', 'China', \"Cote d'Ivoire\", 'Cameroon', 'Congo, Dem. Rep.',\n",
              "       'Congo, Rep.', 'Colombia', 'Comoros', 'Cabo Verde', 'Costa Rica',\n",
              "       'Caribbean small states', 'Cuba', 'Curacao', 'Cayman Islands',\n",
              "       'Cyprus', 'Czechia', 'Germany', 'Djibouti', 'Dominica', 'Denmark',\n",
              "       'Dominican Republic', 'Algeria',\n",
              "       'East Asia & Pacific (excluding high income)',\n",
              "       'Early-demographic dividend', 'East Asia & Pacific',\n",
              "       'Europe & Central Asia (excluding high income)',\n",
              "       'Europe & Central Asia', 'Ecuador', 'Egypt, Arab Rep.',\n",
              "       'Euro area', 'Eritrea', 'Spain', 'Estonia', 'Ethiopia',\n",
              "       'European Union', 'Fragile and conflict affected situations',\n",
              "       'Finland', 'Fiji', 'France', 'Faroe Islands',\n",
              "       'Micronesia, Fed. Sts.', 'Gabon', 'United Kingdom', 'Georgia',\n",
              "       'Ghana', 'Gibraltar', 'Guinea', 'Gambia, The', 'Guinea-Bissau',\n",
              "       'Equatorial Guinea', 'Greece', 'Grenada', 'Greenland', 'Guatemala',\n",
              "       'Guam', 'Guyana', 'High income', 'Hong Kong SAR, China',\n",
              "       'Honduras', 'Heavily indebted poor countries (HIPC)', 'Croatia',\n",
              "       'Haiti', 'Hungary', 'IBRD only', 'IDA & IBRD total', 'IDA total',\n",
              "       'IDA blend', 'Indonesia', 'IDA only', 'Isle of Man', 'India',\n",
              "       'Not classified', 'Ireland', 'Iran, Islamic Rep.', 'Iraq',\n",
              "       'Iceland', 'Israel', 'Italy', 'Jamaica', 'Jordan', 'Japan',\n",
              "       'Kazakhstan', 'Kenya', 'Kyrgyz Republic', 'Cambodia', 'Kiribati',\n",
              "       'St. Kitts and Nevis', 'Korea, Rep.', 'Kuwait',\n",
              "       'Latin America & Caribbean (excluding high income)', 'Lao PDR',\n",
              "       'Lebanon', 'Liberia', 'Libya', 'St. Lucia',\n",
              "       'Latin America & Caribbean',\n",
              "       'Least developed countries: UN classification', 'Low income',\n",
              "       'Liechtenstein', 'Sri Lanka', 'Lower middle income',\n",
              "       'Low & middle income', 'Lesotho', 'Late-demographic dividend',\n",
              "       'Lithuania', 'Luxembourg', 'Latvia', 'Macao SAR, China',\n",
              "       'St. Martin (French part)', 'Morocco', 'Monaco', 'Moldova',\n",
              "       'Madagascar', 'Maldives', 'Middle East & North Africa', 'Mexico',\n",
              "       'Marshall Islands', 'Middle income', 'North Macedonia', 'Mali',\n",
              "       'Malta', 'Myanmar',\n",
              "       'Middle East & North Africa (excluding high income)', 'Montenegro',\n",
              "       'Mongolia', 'Northern Mariana Islands', 'Mozambique', 'Mauritania',\n",
              "       'Mauritius', 'Malawi', 'Malaysia', 'North America', 'Namibia',\n",
              "       'New Caledonia', 'Niger', 'Nigeria', 'Nicaragua', 'Netherlands',\n",
              "       'Norway', 'Nepal', 'Nauru', 'New Zealand', 'OECD members', 'Oman',\n",
              "       'Other small states', 'Pakistan', 'Panama', 'Peru', 'Philippines',\n",
              "       'Palau', 'Papua New Guinea', 'Poland', 'Pre-demographic dividend',\n",
              "       'Puerto Rico', \"Korea, Dem. People's Rep.\", 'Portugal', 'Paraguay',\n",
              "       'West Bank and Gaza', 'Pacific island small states',\n",
              "       'Post-demographic dividend', 'French Polynesia', 'Qatar',\n",
              "       'Romania', 'Russian Federation', 'Rwanda', 'South Asia',\n",
              "       'Saudi Arabia', 'Sudan', 'Senegal', 'Singapore', 'Solomon Islands',\n",
              "       'Sierra Leone', 'El Salvador', 'San Marino', 'Somalia', 'Serbia',\n",
              "       'Sub-Saharan Africa (excluding high income)', 'South Sudan',\n",
              "       'Sub-Saharan Africa', 'Small states', 'Sao Tome and Principe',\n",
              "       'Suriname', 'Slovak Republic', 'Slovenia', 'Sweden', 'Eswatini',\n",
              "       'Sint Maarten (Dutch part)', 'Seychelles', 'Syrian Arab Republic',\n",
              "       'Turks and Caicos Islands', 'Chad',\n",
              "       'East Asia & Pacific (IDA & IBRD countries)',\n",
              "       'Europe & Central Asia (IDA & IBRD countries)', 'Togo', 'Thailand',\n",
              "       'Tajikistan', 'Turkmenistan',\n",
              "       'Latin America & the Caribbean (IDA & IBRD countries)',\n",
              "       'Timor-Leste', 'Middle East & North Africa (IDA & IBRD countries)',\n",
              "       'Tonga', 'South Asia (IDA & IBRD)',\n",
              "       'Sub-Saharan Africa (IDA & IBRD countries)', 'Trinidad and Tobago',\n",
              "       'Tunisia', 'Turkiye', 'Tuvalu', 'Tanzania', 'Uganda', 'Ukraine',\n",
              "       'Upper middle income', 'Uruguay', 'United States', 'Uzbekistan',\n",
              "       'St. Vincent and the Grenadines', 'Venezuela, RB',\n",
              "       'British Virgin Islands', 'Virgin Islands (U.S.)', 'Vietnam',\n",
              "       'Vanuatu', 'World', 'Samoa', 'Kosovo', 'Yemen, Rep.',\n",
              "       'South Africa', 'Zambia', 'Zimbabwe'], dtype=object)"
            ]
          },
          "metadata": {},
          "execution_count": 6
        }
      ]
    },
    {
      "cell_type": "markdown",
      "metadata": {
        "id": "6ug5ll0b-s8-"
      },
      "source": [
        "Since the temperature (from the NASA data) is measured worldwide, we need to focus only on the **World** subcategory (second-to-last row in the list)."
      ]
    },
    {
      "cell_type": "markdown",
      "metadata": {
        "id": "TPbJj4LI9aUl"
      },
      "source": [
        "Finally, let's join the two datasets."
      ]
    },
    {
      "cell_type": "code",
      "metadata": {
        "colab": {
          "base_uri": "https://localhost:8080/",
          "height": 298
        },
        "id": "ROmM3o2I9eBB",
        "outputId": "e09fc63b-56c6-4eeb-f02d-976c0858fa7c"
      },
      "source": [
        "temp_merge = data_temp.merge(data_gdp.query('Country == \"World\"'),\n",
        "      left_on = 'Year', right_on = 'Year')\n",
        "temp_merge"
      ],
      "execution_count": 7,
      "outputs": [
        {
          "output_type": "execute_result",
          "data": {
            "text/plain": [
              "    Year  Temperature  Smoothing Country Country Code     Indicator Name  \\\n",
              "0   1960        -0.03       0.03   World          WLD  GDP (current US$)   \n",
              "1   1961         0.06       0.01   World          WLD  GDP (current US$)   \n",
              "2   1962         0.03      -0.01   World          WLD  GDP (current US$)   \n",
              "..   ...          ...        ...     ...          ...                ...   \n",
              "58  2018         0.85       0.93   World          WLD  GDP (current US$)   \n",
              "59  2019         0.97       0.92   World          WLD  GDP (current US$)   \n",
              "60  2020         1.02       0.92   World          WLD  GDP (current US$)   \n",
              "\n",
              "    Indicator Code           GDP  \n",
              "0   NY.GDP.MKTP.CD  1.392277e+12  \n",
              "1   NY.GDP.MKTP.CD  1.448625e+12  \n",
              "2   NY.GDP.MKTP.CD  1.550548e+12  \n",
              "..             ...           ...  \n",
              "58  NY.GDP.MKTP.CD  8.645689e+13  \n",
              "59  NY.GDP.MKTP.CD  8.764526e+13  \n",
              "60  NY.GDP.MKTP.CD  8.510560e+13  \n",
              "\n",
              "[61 rows x 8 columns]"
            ],
            "text/html": [
              "\n",
              "  <div id=\"df-7404453a-d131-4ca3-80c4-b4702b10f9c2\">\n",
              "    <div class=\"colab-df-container\">\n",
              "      <div>\n",
              "<style scoped>\n",
              "    .dataframe tbody tr th:only-of-type {\n",
              "        vertical-align: middle;\n",
              "    }\n",
              "\n",
              "    .dataframe tbody tr th {\n",
              "        vertical-align: top;\n",
              "    }\n",
              "\n",
              "    .dataframe thead th {\n",
              "        text-align: right;\n",
              "    }\n",
              "</style>\n",
              "<table border=\"1\" class=\"dataframe\">\n",
              "  <thead>\n",
              "    <tr style=\"text-align: right;\">\n",
              "      <th></th>\n",
              "      <th>Year</th>\n",
              "      <th>Temperature</th>\n",
              "      <th>Smoothing</th>\n",
              "      <th>Country</th>\n",
              "      <th>Country Code</th>\n",
              "      <th>Indicator Name</th>\n",
              "      <th>Indicator Code</th>\n",
              "      <th>GDP</th>\n",
              "    </tr>\n",
              "  </thead>\n",
              "  <tbody>\n",
              "    <tr>\n",
              "      <th>0</th>\n",
              "      <td>1960</td>\n",
              "      <td>-0.03</td>\n",
              "      <td>0.03</td>\n",
              "      <td>World</td>\n",
              "      <td>WLD</td>\n",
              "      <td>GDP (current US$)</td>\n",
              "      <td>NY.GDP.MKTP.CD</td>\n",
              "      <td>1.392277e+12</td>\n",
              "    </tr>\n",
              "    <tr>\n",
              "      <th>1</th>\n",
              "      <td>1961</td>\n",
              "      <td>0.06</td>\n",
              "      <td>0.01</td>\n",
              "      <td>World</td>\n",
              "      <td>WLD</td>\n",
              "      <td>GDP (current US$)</td>\n",
              "      <td>NY.GDP.MKTP.CD</td>\n",
              "      <td>1.448625e+12</td>\n",
              "    </tr>\n",
              "    <tr>\n",
              "      <th>2</th>\n",
              "      <td>1962</td>\n",
              "      <td>0.03</td>\n",
              "      <td>-0.01</td>\n",
              "      <td>World</td>\n",
              "      <td>WLD</td>\n",
              "      <td>GDP (current US$)</td>\n",
              "      <td>NY.GDP.MKTP.CD</td>\n",
              "      <td>1.550548e+12</td>\n",
              "    </tr>\n",
              "    <tr>\n",
              "      <th>...</th>\n",
              "      <td>...</td>\n",
              "      <td>...</td>\n",
              "      <td>...</td>\n",
              "      <td>...</td>\n",
              "      <td>...</td>\n",
              "      <td>...</td>\n",
              "      <td>...</td>\n",
              "      <td>...</td>\n",
              "    </tr>\n",
              "    <tr>\n",
              "      <th>58</th>\n",
              "      <td>2018</td>\n",
              "      <td>0.85</td>\n",
              "      <td>0.93</td>\n",
              "      <td>World</td>\n",
              "      <td>WLD</td>\n",
              "      <td>GDP (current US$)</td>\n",
              "      <td>NY.GDP.MKTP.CD</td>\n",
              "      <td>8.645689e+13</td>\n",
              "    </tr>\n",
              "    <tr>\n",
              "      <th>59</th>\n",
              "      <td>2019</td>\n",
              "      <td>0.97</td>\n",
              "      <td>0.92</td>\n",
              "      <td>World</td>\n",
              "      <td>WLD</td>\n",
              "      <td>GDP (current US$)</td>\n",
              "      <td>NY.GDP.MKTP.CD</td>\n",
              "      <td>8.764526e+13</td>\n",
              "    </tr>\n",
              "    <tr>\n",
              "      <th>60</th>\n",
              "      <td>2020</td>\n",
              "      <td>1.02</td>\n",
              "      <td>0.92</td>\n",
              "      <td>World</td>\n",
              "      <td>WLD</td>\n",
              "      <td>GDP (current US$)</td>\n",
              "      <td>NY.GDP.MKTP.CD</td>\n",
              "      <td>8.510560e+13</td>\n",
              "    </tr>\n",
              "  </tbody>\n",
              "</table>\n",
              "<p>61 rows × 8 columns</p>\n",
              "</div>\n",
              "      <button class=\"colab-df-convert\" onclick=\"convertToInteractive('df-7404453a-d131-4ca3-80c4-b4702b10f9c2')\"\n",
              "              title=\"Convert this dataframe to an interactive table.\"\n",
              "              style=\"display:none;\">\n",
              "        \n",
              "  <svg xmlns=\"http://www.w3.org/2000/svg\" height=\"24px\"viewBox=\"0 0 24 24\"\n",
              "       width=\"24px\">\n",
              "    <path d=\"M0 0h24v24H0V0z\" fill=\"none\"/>\n",
              "    <path d=\"M18.56 5.44l.94 2.06.94-2.06 2.06-.94-2.06-.94-.94-2.06-.94 2.06-2.06.94zm-11 1L8.5 8.5l.94-2.06 2.06-.94-2.06-.94L8.5 2.5l-.94 2.06-2.06.94zm10 10l.94 2.06.94-2.06 2.06-.94-2.06-.94-.94-2.06-.94 2.06-2.06.94z\"/><path d=\"M17.41 7.96l-1.37-1.37c-.4-.4-.92-.59-1.43-.59-.52 0-1.04.2-1.43.59L10.3 9.45l-7.72 7.72c-.78.78-.78 2.05 0 2.83L4 21.41c.39.39.9.59 1.41.59.51 0 1.02-.2 1.41-.59l7.78-7.78 2.81-2.81c.8-.78.8-2.07 0-2.86zM5.41 20L4 18.59l7.72-7.72 1.47 1.35L5.41 20z\"/>\n",
              "  </svg>\n",
              "      </button>\n",
              "      \n",
              "  <style>\n",
              "    .colab-df-container {\n",
              "      display:flex;\n",
              "      flex-wrap:wrap;\n",
              "      gap: 12px;\n",
              "    }\n",
              "\n",
              "    .colab-df-convert {\n",
              "      background-color: #E8F0FE;\n",
              "      border: none;\n",
              "      border-radius: 50%;\n",
              "      cursor: pointer;\n",
              "      display: none;\n",
              "      fill: #1967D2;\n",
              "      height: 32px;\n",
              "      padding: 0 0 0 0;\n",
              "      width: 32px;\n",
              "    }\n",
              "\n",
              "    .colab-df-convert:hover {\n",
              "      background-color: #E2EBFA;\n",
              "      box-shadow: 0px 1px 2px rgba(60, 64, 67, 0.3), 0px 1px 3px 1px rgba(60, 64, 67, 0.15);\n",
              "      fill: #174EA6;\n",
              "    }\n",
              "\n",
              "    [theme=dark] .colab-df-convert {\n",
              "      background-color: #3B4455;\n",
              "      fill: #D2E3FC;\n",
              "    }\n",
              "\n",
              "    [theme=dark] .colab-df-convert:hover {\n",
              "      background-color: #434B5C;\n",
              "      box-shadow: 0px 1px 3px 1px rgba(0, 0, 0, 0.15);\n",
              "      filter: drop-shadow(0px 1px 2px rgba(0, 0, 0, 0.3));\n",
              "      fill: #FFFFFF;\n",
              "    }\n",
              "  </style>\n",
              "\n",
              "      <script>\n",
              "        const buttonEl =\n",
              "          document.querySelector('#df-7404453a-d131-4ca3-80c4-b4702b10f9c2 button.colab-df-convert');\n",
              "        buttonEl.style.display =\n",
              "          google.colab.kernel.accessAllowed ? 'block' : 'none';\n",
              "\n",
              "        async function convertToInteractive(key) {\n",
              "          const element = document.querySelector('#df-7404453a-d131-4ca3-80c4-b4702b10f9c2');\n",
              "          const dataTable =\n",
              "            await google.colab.kernel.invokeFunction('convertToInteractive',\n",
              "                                                     [key], {});\n",
              "          if (!dataTable) return;\n",
              "\n",
              "          const docLinkHtml = 'Like what you see? Visit the ' +\n",
              "            '<a target=\"_blank\" href=https://colab.research.google.com/notebooks/data_table.ipynb>data table notebook</a>'\n",
              "            + ' to learn more about interactive tables.';\n",
              "          element.innerHTML = '';\n",
              "          dataTable['output_type'] = 'display_data';\n",
              "          await google.colab.output.renderOutput(dataTable, element);\n",
              "          const docLink = document.createElement('div');\n",
              "          docLink.innerHTML = docLinkHtml;\n",
              "          element.appendChild(docLink);\n",
              "        }\n",
              "      </script>\n",
              "    </div>\n",
              "  </div>\n",
              "  "
            ]
          },
          "metadata": {},
          "execution_count": 7
        }
      ]
    },
    {
      "cell_type": "markdown",
      "metadata": {
        "id": "8sEVfS8tBeYq"
      },
      "source": [
        "Let's see how the trends compare from 1960 onwards."
      ]
    },
    {
      "cell_type": "code",
      "metadata": {
        "colab": {
          "base_uri": "https://localhost:8080/",
          "height": 435
        },
        "id": "AOUD_RIFBixY",
        "outputId": "84d3da9e-c6a8-4939-f729-d654cfe087d4"
      },
      "source": [
        "ax = temp_merge.plot(x = \"Year\", y = \"Temperature\", legend = False) \n",
        "plt.plot(data_temp.query('Year > 1959').Year, \n",
        "         data_temp.query('Year > 1959').Smoothing, \n",
        "         label = \"Smoothed\")\n",
        "ax2 = ax.twinx()\n",
        "temp_merge.plot(x = \"Year\", y = \"GDP\", ax = ax2, legend = False, color = \"r\")\n",
        "ax.figure.legend()\n",
        "plt.grid()\n",
        "plt.show()\n",
        "plt.rcParams[\"figure.figsize\"]=(10, 6)"
      ],
      "execution_count": 8,
      "outputs": [
        {
          "output_type": "display_data",
          "data": {
            "text/plain": [
              "<Figure size 720x432 with 2 Axes>"
            ],
            "image/png": "[encoded data removed]"
          },
          "metadata": {
            "needs_background": "light"
          }
        }
      ]
    },
    {
      "cell_type": "markdown",
      "metadata": {
        "id": "WU9KGvRK6pKC"
      },
      "source": [
        "## Granger causality\n",
        "### Definition\n",
        "\n",
        "Causality is a complex notion. Clive Granger, who was awarded the Nobel Prize in Economics in 2003, proposed a simple, heuristic model to try to detect a weak form of causality in time-series.   \n",
        "Suppose you are given two time-series, $y_t$ and $x_t$, where $t$ is the time index.  \n",
        "One way to introduce a sense of memory in the model is to assume that $y_t$ depends on past values of the processes, i.e.,  \n",
        "\n",
        "\\begin{align}\n",
        "y_t = a + \\sum_{s=1}^pb_sy_{t-s}+ \\sum_{r=1}^qd_rx_{t-r}+e_t.\n",
        "\\end{align}\n",
        "\n",
        "\n",
        "In the above equation: \n",
        "- $a$ is some real number;\n",
        "- the first sum represents a linear combination of past values of $y_t$, while \n",
        "- the second is a linear combination of the past values of $x_t$;\n",
        "- $e_t$ is an error term: it is not always possible to represent $y_t$ as a simple double sum.   \n",
        "Heuristically, it seems fair to assume that the variable (process) $x$ does not *influence* $y$ if all the coefficents $d_r$ are equal to zero. Basically, this means that $y$ cannot be explained with any past realization of $x_t$.  \n",
        "Thus, we will say that $x$ **does not Granger-cause *y*** if $d_r=0$ for $r=1,...,q$.\n",
        "\n",
        "### Empirical test\n",
        "The test is implemented in the **statsmodels** python module.  \n",
        "It performs 4 similar tests on whether the coefficients $d_r$ of $x$ in the above Equation are all equal to zero.\n"
      ]
    },
    {
      "cell_type": "code",
      "metadata": {
        "colab": {
          "base_uri": "https://localhost:8080/"
        },
        "id": "Q2S_PCegAh1Y",
        "outputId": "8084e5b6-9ab4-40d6-e12f-9b54373232b5"
      },
      "source": [
        "granger_test = grangercausalitytests(temp_merge[['Temperature', 'GDP']], maxlag = 4)"
      ],
      "execution_count": 9,
      "outputs": [
        {
          "output_type": "stream",
          "name": "stdout",
          "text": [
            "\n",
            "Granger Causality\n",
            "number of lags (no zero) 1\n",
            "ssr based F test:         F=18.2239 , p=0.0001  , df_denom=57, df_num=1\n",
            "ssr based chi2 test:   chi2=19.1831 , p=0.0000  , df=1\n",
            "likelihood ratio test: chi2=16.6451 , p=0.0000  , df=1\n",
            "parameter F test:         F=18.2239 , p=0.0001  , df_denom=57, df_num=1\n",
            "\n",
            "Granger Causality\n",
            "number of lags (no zero) 2\n",
            "ssr based F test:         F=7.0378  , p=0.0019  , df_denom=54, df_num=2\n",
            "ssr based chi2 test:   chi2=15.3788 , p=0.0005  , df=2\n",
            "likelihood ratio test: chi2=13.6664 , p=0.0011  , df=2\n",
            "parameter F test:         F=6.9322  , p=0.0021  , df_denom=54, df_num=2\n",
            "\n",
            "Granger Causality\n",
            "number of lags (no zero) 3\n",
            "ssr based F test:         F=3.1914  , p=0.0309  , df_denom=53, df_num=3\n",
            "ssr based chi2 test:   chi2=10.4776 , p=0.0149  , df=3\n",
            "likelihood ratio test: chi2=9.6317  , p=0.0220  , df=3\n",
            "parameter F test:         F=3.0911  , p=0.0347  , df_denom=53, df_num=3\n",
            "\n",
            "Granger Causality\n",
            "number of lags (no zero) 4\n",
            "ssr based F test:         F=1.5429  , p=0.2038  , df_denom=51, df_num=4\n",
            "ssr based chi2 test:   chi2=6.8976  , p=0.1414  , df=4\n",
            "likelihood ratio test: chi2=6.5111  , p=0.1641  , df=4\n",
            "parameter F test:         F=1.6468  , p=0.1769  , df_denom=51, df_num=4\n"
          ]
        }
      ]
    },
    {
      "cell_type": "markdown",
      "metadata": {
        "id": "GNgESJoMgDjG"
      },
      "source": [
        "Ok, so how do we interpret these numbers?  \n",
        "In academia, it is customary to focus on the so-called **p-values** (the p=... in the output).    \n",
        "The p-values are a measure of how likely the data is under the **null hypothesis**.  \n",
        "Here, the null is that all coefficients pertaining to $x$ are equal to zero.  \n",
        "When the lag (q) is equal to one, we see that the p-values are very small (0.0000), meaning that the dataset is improbable under the null. Rephrasing it (in a less rigorous way), it means that it's unlikely that the coefficients are equal to zero, and hence that GDP does **not not** cause the temperature series.    \n",
        "When q=4, the p-values are higher (>0.15), and thus the sample is less unlikely. In this case, we cannot reject the null and Granger causality no longer holds.  \n",
        "Naturally, it makes sense that it is harder to unveil causality because it requires ALL coefficients to be zero, which is a stringent assumption.   \n",
        "For the sake of exhaustiveness, it is sometimes customary to perform the test the other way around. "
      ]
    },
    {
      "cell_type": "code",
      "metadata": {
        "colab": {
          "base_uri": "https://localhost:8080/"
        },
        "id": "_HAhugKwNuKW",
        "outputId": "dde5d150-cdd1-4c47-d7ba-a1d66e71341e"
      },
      "source": [
        "granger_test = grangercausalitytests(temp_merge[['GDP', 'Temperature']], maxlag = 4)"
      ],
      "execution_count": 10,
      "outputs": [
        {
          "output_type": "stream",
          "name": "stdout",
          "text": [
            "\n",
            "Granger Causality\n",
            "number of lags (no zero) 1\n",
            "ssr based F test:         F=5.9381  , p=0.0180  , df_denom=57, df_num=1\n",
            "ssr based chi2 test:   chi2=6.2506  , p=0.0124  , df=1\n",
            "likelihood ratio test: chi2=5.9460  , p=0.0148  , df=1\n",
            "parameter F test:         F=5.9381  , p=0.0180  , df_denom=57, df_num=1\n",
            "\n",
            "Granger Causality\n",
            "number of lags (no zero) 2\n",
            "ssr based F test:         F=3.4614  , p=0.0385  , df_denom=54, df_num=2\n",
            "ssr based chi2 test:   chi2=7.5637  , p=0.0228  , df=2\n",
            "likelihood ratio test: chi2=7.1167  , p=0.0285  , df=2\n",
            "parameter F test:         F=3.4614  , p=0.0385  , df_denom=54, df_num=2\n",
            "\n",
            "Granger Causality\n",
            "number of lags (no zero) 3\n",
            "ssr based F test:         F=1.7440  , p=0.1692  , df_denom=53, df_num=3\n",
            "ssr based chi2 test:   chi2=5.7257  , p=0.1257  , df=3\n",
            "likelihood ratio test: chi2=5.4604  , p=0.1410  , df=3\n",
            "parameter F test:         F=1.7440  , p=0.1692  , df_denom=53, df_num=3\n",
            "\n",
            "Granger Causality\n",
            "number of lags (no zero) 4\n",
            "ssr based F test:         F=1.4273  , p=0.2384  , df_denom=51, df_num=4\n",
            "ssr based chi2 test:   chi2=6.3807  , p=0.1725  , df=4\n",
            "likelihood ratio test: chi2=6.0481  , p=0.1956  , df=4\n",
            "parameter F test:         F=2.1556  , p=0.0873  , df_denom=51, df_num=4\n"
          ]
        }
      ]
    },
    {
      "cell_type": "markdown",
      "metadata": {
        "id": "e-WllhHnN_f_"
      },
      "source": [
        "Interestingly, the p-values are larger in this case, meaning that it is more likely that  \n",
        "**GDP => temperature**  \n",
        "than  \n",
        "**temperature => GDP**  \n",
        "(which makes sense, in a way)."
      ]
    },
    {
      "cell_type": "markdown",
      "metadata": {
        "id": "AYJgqw4iYmA0"
      },
      "source": [
        "## The long term perspective\n"
      ]
    },
    {
      "cell_type": "markdown",
      "metadata": {
        "id": "VDJCDRVXY5YZ"
      },
      "source": [
        "The new GDP data is sourced from the Github account of **Our World in Data**, but the origin is the New Maddison Project Database and the World Bank."
      ]
    },
    {
      "cell_type": "code",
      "metadata": {
        "colab": {
          "base_uri": "https://localhost:8080/",
          "height": 399
        },
        "id": "K6OvQ__GY2X8",
        "outputId": "90637d68-d052-4941-c6c0-2691b6031524"
      },
      "source": [
        "url =\"https://raw.githubusercontent.com/owid/owid-datasets/master/datasets/World%20GDP%20in%202011%20int%20%24%20%E2%80%93%20OWID%20based%20on%20World%20Bank%20%2B%20Maddison%20(2017)/World%20GDP%20in%202011%20int%20%24%20%E2%80%93%20OWID%20based%20on%20World%20Bank%20%2B%20Maddison%20(2017).csv\"\n",
        "gpd_lt = pd.read_csv(url)\n",
        "gpd_lt.columns.values[2] = \"GDP\"\n",
        "gpd_lt.plot(x = \"Year\", y = \"GDP\");"
      ],
      "execution_count": 11,
      "outputs": [
        {
          "output_type": "display_data",
          "data": {
            "text/plain": [
              "<Figure size 720x432 with 1 Axes>"
            ],
            "image/png": "[encoded data removed]"
          },
          "metadata": {
            "needs_background": "light"
          }
        }
      ]
    },
    {
      "cell_type": "markdown",
      "metadata": {
        "id": "OmdPydwYbSWc"
      },
      "source": [
        "A long-term perspective shows the exponential nature of economic growth.  \n",
        "Whether it is sustainable is still the topic of heated debates.  "
      ]
    },
    {
      "cell_type": "code",
      "metadata": {
        "colab": {
          "base_uri": "https://localhost:8080/",
          "height": 435
        },
        "id": "RCalzNh9gglB",
        "outputId": "1960b0bc-9296-4166-cc1c-80e64c8a74a4"
      },
      "source": [
        "ax = data_temp.plot(x = \"Year\", y = \"Smoothing\", legend = False, color = 'g') \n",
        "ax2 = ax.twinx()\n",
        "temp_merge.plot(x = \"Year\", y = \"GDP\", ax = ax2, legend = False, color = \"r\")\n",
        "plt.plot(gpd_lt.query('Year > 1849').Year, \n",
        "         gpd_lt.query('Year > 1849').GDP, \n",
        "         label = \"LT GDP\")\n",
        "ax.figure.legend()\n",
        "plt.grid()\n",
        "plt.show()\n",
        "plt.rcParams[\"figure.figsize\"]=(10, 6)"
      ],
      "execution_count": 12,
      "outputs": [
        {
          "output_type": "display_data",
          "data": {
            "text/plain": [
              "<Figure size 720x432 with 2 Axes>"
            ],
            "image/png": "[encoded data removed]"
          },
          "metadata": {
            "needs_background": "light"
          }
        }
      ]
    },
    {
      "cell_type": "markdown",
      "metadata": {
        "id": "egO1njkomOuH"
      },
      "source": [
        "# Conclusion\n",
        "\n",
        "Economic output and rising temperatures are **linked**. While our analysis is not sufficient to prove **causality**, there is strong consensus among the scientific community that global warming stems from human activity (even via cattle!).  \n",
        "An important note: temperature is not the only relevant indicator. **Precipitation** (& humidity) is another facet of climate that is impacted by GHG emissions. The recent trends show extreme dynamics: dry places become drier and \"wet\" areas experience more and more intense rain episodes."
      ]
    }
  ]
}