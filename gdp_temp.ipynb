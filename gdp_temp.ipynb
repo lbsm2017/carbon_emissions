{
  "nbformat": 4,
  "nbformat_minor": 0,
  "metadata": {
    "colab": {
      "name": "gdp_temp.ipynb",
      "provenance": [],
      "collapsed_sections": [],
      "authorship_tag": "ABX9TyNH4Y0qk/vfVfZalvUYIF3f",
      "include_colab_link": true
    },
    "kernelspec": {
      "name": "python3",
      "display_name": "Python 3"
    },
    "language_info": {
      "name": "python"
    }
  },
  "cells": [
    {
      "cell_type": "markdown",
      "metadata": {
        "id": "view-in-github",
        "colab_type": "text"
      },
      "source": [
        "<a href=\"https://colab.research.google.com/github/shokru/carbon_emissions/blob/main/gdp_temp.ipynb\" target=\"_parent\"><img src=\"https://colab.research.google.com/assets/colab-badge.svg\" alt=\"Open In Colab\"/></a>"
      ]
    },
    {
      "cell_type": "markdown",
      "metadata": {
        "id": "04tL2VGNl0qn"
      },
      "source": [
        "# Economic output and temperature dynamics"
      ]
    },
    {
      "cell_type": "code",
      "metadata": {
        "id": "P_dWt7k5ltvh",
        "colab": {
          "base_uri": "https://localhost:8080/"
        },
        "outputId": "1e653812-e3a4-470c-990b-a38dc97568f2"
      },
      "source": [
        "import pandas as pd                      # This library is for data wrangling\n",
        "import seaborn as sns                    # This is one library for plotting\n",
        "import matplotlib.pyplot as plt          # Yet another library for visualization\n",
        "import plotly.express as px              # This is another library for plots \n",
        "import statsmodels.api as sm             # For the Granger causality test\n",
        "from statsmodels.tsa.stattools import grangercausalitytests\n",
        "import numpy as np\n",
        "pd.set_option('display.max_rows', 6)     # First 3 and last 3 rows will be shown\n",
        "import warnings                          # This is to remove warning to keep output clean\n",
        "warnings.filterwarnings('ignore')"
      ],
      "execution_count": 1,
      "outputs": [
        {
          "output_type": "stream",
          "name": "stderr",
          "text": [
            "/usr/local/lib/python3.7/dist-packages/statsmodels/tools/_testing.py:19: FutureWarning:\n",
            "\n",
            "pandas.util.testing is deprecated. Use the functions in the public API at pandas.testing instead.\n",
            "\n"
          ]
        }
      ]
    },
    {
      "cell_type": "markdown",
      "metadata": {
        "id": "z0GvDI76mJUE"
      },
      "source": [
        "## Temperature data\n",
        "\n",
        "There are several sources for global temperatures. All in all, it seems that this does not matter much. As [Wikipedia](https://en.wikipedia.org/wiki/Global_temperature_record) notes: '*Global average temperature datasets from NASA, NOAA, Berkeley Earth, and meteorological offices of the U.K. and Japan, show substantial agreement concerning the progress and extent of global warming: pairwise correlations range from 98.09% to 99.04%.*'\n",
        "\n",
        "First, let's download global annual temperatures from the NASA (see the page https://climate.nasa.gov/vital-signs/global-temperature/).  \n",
        "The values related to the difference with pre-industrial periods.  \n",
        "This is often taken to be 1850-1900, though it's unclear if this is the base choice in the NASA's data."
      ]
    },
    {
      "cell_type": "code",
      "metadata": {
        "colab": {
          "base_uri": "https://localhost:8080/",
          "height": 298
        },
        "id": "5WVXYUxJl7Bi",
        "outputId": "c9759e7d-b535-4bd1-d648-531edbdadfac"
      },
      "source": [
        "url = 'https://data.giss.nasa.gov/gistemp/graphs/graph_data/Global_Mean_Estimates_based_on_Land_and_Ocean_Data/graph.txt'\n",
        "data_temp = pd.read_csv(url, skiprows = 4, sep='\\r\\t')  \n",
        "data_temp = data_temp.iloc[0:,0].str.split(expand = True)\n",
        "data_temp = data_temp.rename(columns = {0: 'Year', 1: 'Temperature', 2: 'Smoothing'})\n",
        "data_temp['Temperature'] = pd.to_numeric(data_temp['Temperature']) # Translate to number\n",
        "data_temp['Smoothing'] = pd.to_numeric(data_temp['Smoothing'])     # Translate to number\n",
        "data_temp['Year'] = pd.to_numeric(data_temp['Year'])               # Translate to number\n",
        "data_temp"
      ],
      "execution_count": 2,
      "outputs": [
        {
          "output_type": "execute_result",
          "data": {
            "text/html": [
              "<div>\n",
              "<style scoped>\n",
              "    .dataframe tbody tr th:only-of-type {\n",
              "        vertical-align: middle;\n",
              "    }\n",
              "\n",
              "    .dataframe tbody tr th {\n",
              "        vertical-align: top;\n",
              "    }\n",
              "\n",
              "    .dataframe thead th {\n",
              "        text-align: right;\n",
              "    }\n",
              "</style>\n",
              "<table border=\"1\" class=\"dataframe\">\n",
              "  <thead>\n",
              "    <tr style=\"text-align: right;\">\n",
              "      <th></th>\n",
              "      <th>Year</th>\n",
              "      <th>Temperature</th>\n",
              "      <th>Smoothing</th>\n",
              "    </tr>\n",
              "  </thead>\n",
              "  <tbody>\n",
              "    <tr>\n",
              "      <th>0</th>\n",
              "      <td>1880</td>\n",
              "      <td>-0.16</td>\n",
              "      <td>-0.09</td>\n",
              "    </tr>\n",
              "    <tr>\n",
              "      <th>1</th>\n",
              "      <td>1881</td>\n",
              "      <td>-0.08</td>\n",
              "      <td>-0.12</td>\n",
              "    </tr>\n",
              "    <tr>\n",
              "      <th>2</th>\n",
              "      <td>1882</td>\n",
              "      <td>-0.10</td>\n",
              "      <td>-0.16</td>\n",
              "    </tr>\n",
              "    <tr>\n",
              "      <th>...</th>\n",
              "      <td>...</td>\n",
              "      <td>...</td>\n",
              "      <td>...</td>\n",
              "    </tr>\n",
              "    <tr>\n",
              "      <th>138</th>\n",
              "      <td>2018</td>\n",
              "      <td>0.85</td>\n",
              "      <td>0.94</td>\n",
              "    </tr>\n",
              "    <tr>\n",
              "      <th>139</th>\n",
              "      <td>2019</td>\n",
              "      <td>0.98</td>\n",
              "      <td>0.98</td>\n",
              "    </tr>\n",
              "    <tr>\n",
              "      <th>140</th>\n",
              "      <td>2020</td>\n",
              "      <td>1.02</td>\n",
              "      <td>1.01</td>\n",
              "    </tr>\n",
              "  </tbody>\n",
              "</table>\n",
              "<p>141 rows × 3 columns</p>\n",
              "</div>"
            ],
            "text/plain": [
              "     Year  Temperature  Smoothing\n",
              "0    1880        -0.16      -0.09\n",
              "1    1881        -0.08      -0.12\n",
              "2    1882        -0.10      -0.16\n",
              "..    ...          ...        ...\n",
              "138  2018         0.85       0.94\n",
              "139  2019         0.98       0.98\n",
              "140  2020         1.02       1.01\n",
              "\n",
              "[141 rows x 3 columns]"
            ]
          },
          "metadata": {},
          "execution_count": 2
        }
      ]
    },
    {
      "cell_type": "code",
      "metadata": {
        "colab": {
          "base_uri": "https://localhost:8080/",
          "height": 265
        },
        "id": "r_y7CV74WoLH",
        "outputId": "a00584e6-f5ab-4c16-ffa5-b2d0acf82258"
      },
      "source": [
        "plt.plot(data_temp.Year, data_temp.Temperature, label = \"Temperature\")\n",
        "plt.plot(data_temp.Year, data_temp.Smoothing, label = \"Smoothed\")\n",
        "plt.legend()\n",
        "plt.show()\n"
      ],
      "execution_count": 3,
      "outputs": [
        {
          "output_type": "display_data",
          "data": {
            "image/png": "[encoded data removed]",
            "text/plain": [
              "<Figure size 432x288 with 1 Axes>"
            ]
          },
          "metadata": {
            "needs_background": "light"
          }
        }
      ]
    },
    {
      "cell_type": "markdown",
      "metadata": {
        "id": "rgCeT7rNW9g6"
      },
      "source": [
        "The trend post-1960 seems pretty obvious (almost post-1900 if we omit World War II)."
      ]
    },
    {
      "cell_type": "markdown",
      "metadata": {
        "id": "2QlqhDEvnyAM"
      },
      "source": [
        "Next, GDP data from the **World Bank**."
      ]
    },
    {
      "cell_type": "code",
      "metadata": {
        "id": "coFtzDUBn2Wk",
        "colab": {
          "base_uri": "https://localhost:8080/",
          "height": 298
        },
        "outputId": "d360e808-73b5-4431-cfa5-831a16122277"
      },
      "source": [
        "url = 'https://api.worldbank.org/v2/en/indicator/NY.GDP.MKTP.CD?downloadformat=excel'\n",
        "data_gdp = pd.read_excel(url, skiprows = 3) \n",
        "# Putting the data in long format below\n",
        "data_gdp = pd.wide_to_long(data_gdp.iloc[0:,0:65], \n",
        "                stubnames = [''], \n",
        "                i = ['Country Name', 'Country Code', 'Indicator Name', 'Indicator Code'],\n",
        "                j = 'Year').reset_index()\n",
        "data_gdp = data_gdp.rename(columns = {'Country Name': 'Country', '': 'GDP'})\n",
        "data_gdp"
      ],
      "execution_count": 4,
      "outputs": [
        {
          "output_type": "execute_result",
          "data": {
            "text/html": [
              "<div>\n",
              "<style scoped>\n",
              "    .dataframe tbody tr th:only-of-type {\n",
              "        vertical-align: middle;\n",
              "    }\n",
              "\n",
              "    .dataframe tbody tr th {\n",
              "        vertical-align: top;\n",
              "    }\n",
              "\n",
              "    .dataframe thead th {\n",
              "        text-align: right;\n",
              "    }\n",
              "</style>\n",
              "<table border=\"1\" class=\"dataframe\">\n",
              "  <thead>\n",
              "    <tr style=\"text-align: right;\">\n",
              "      <th></th>\n",
              "      <th>Country</th>\n",
              "      <th>Country Code</th>\n",
              "      <th>Indicator Name</th>\n",
              "      <th>Indicator Code</th>\n",
              "      <th>Year</th>\n",
              "      <th>GDP</th>\n",
              "    </tr>\n",
              "  </thead>\n",
              "  <tbody>\n",
              "    <tr>\n",
              "      <th>0</th>\n",
              "      <td>Aruba</td>\n",
              "      <td>ABW</td>\n",
              "      <td>GDP (current US$)</td>\n",
              "      <td>NY.GDP.MKTP.CD</td>\n",
              "      <td>1960</td>\n",
              "      <td>NaN</td>\n",
              "    </tr>\n",
              "    <tr>\n",
              "      <th>1</th>\n",
              "      <td>Aruba</td>\n",
              "      <td>ABW</td>\n",
              "      <td>GDP (current US$)</td>\n",
              "      <td>NY.GDP.MKTP.CD</td>\n",
              "      <td>1961</td>\n",
              "      <td>NaN</td>\n",
              "    </tr>\n",
              "    <tr>\n",
              "      <th>2</th>\n",
              "      <td>Aruba</td>\n",
              "      <td>ABW</td>\n",
              "      <td>GDP (current US$)</td>\n",
              "      <td>NY.GDP.MKTP.CD</td>\n",
              "      <td>1962</td>\n",
              "      <td>NaN</td>\n",
              "    </tr>\n",
              "    <tr>\n",
              "      <th>...</th>\n",
              "      <td>...</td>\n",
              "      <td>...</td>\n",
              "      <td>...</td>\n",
              "      <td>...</td>\n",
              "      <td>...</td>\n",
              "      <td>...</td>\n",
              "    </tr>\n",
              "    <tr>\n",
              "      <th>16223</th>\n",
              "      <td>Zimbabwe</td>\n",
              "      <td>ZWE</td>\n",
              "      <td>GDP (current US$)</td>\n",
              "      <td>NY.GDP.MKTP.CD</td>\n",
              "      <td>2018</td>\n",
              "      <td>1.952362e+10</td>\n",
              "    </tr>\n",
              "    <tr>\n",
              "      <th>16224</th>\n",
              "      <td>Zimbabwe</td>\n",
              "      <td>ZWE</td>\n",
              "      <td>GDP (current US$)</td>\n",
              "      <td>NY.GDP.MKTP.CD</td>\n",
              "      <td>2019</td>\n",
              "      <td>1.693243e+10</td>\n",
              "    </tr>\n",
              "    <tr>\n",
              "      <th>16225</th>\n",
              "      <td>Zimbabwe</td>\n",
              "      <td>ZWE</td>\n",
              "      <td>GDP (current US$)</td>\n",
              "      <td>NY.GDP.MKTP.CD</td>\n",
              "      <td>2020</td>\n",
              "      <td>1.676851e+10</td>\n",
              "    </tr>\n",
              "  </tbody>\n",
              "</table>\n",
              "<p>16226 rows × 6 columns</p>\n",
              "</div>"
            ],
            "text/plain": [
              "        Country Country Code  ...  Year           GDP\n",
              "0         Aruba          ABW  ...  1960           NaN\n",
              "1         Aruba          ABW  ...  1961           NaN\n",
              "2         Aruba          ABW  ...  1962           NaN\n",
              "...         ...          ...  ...   ...           ...\n",
              "16223  Zimbabwe          ZWE  ...  2018  1.952362e+10\n",
              "16224  Zimbabwe          ZWE  ...  2019  1.693243e+10\n",
              "16225  Zimbabwe          ZWE  ...  2020  1.676851e+10\n",
              "\n",
              "[16226 rows x 6 columns]"
            ]
          },
          "metadata": {},
          "execution_count": 4
        }
      ]
    },
    {
      "cell_type": "markdown",
      "metadata": {
        "id": "nmrxjXBfAgyf"
      },
      "source": [
        "A quick look at all **geographical zones** included in the sample: lots of **clusters**!"
      ]
    },
    {
      "cell_type": "code",
      "metadata": {
        "colab": {
          "base_uri": "https://localhost:8080/"
        },
        "id": "GYuSg4TN-8n1",
        "outputId": "3e56adc6-e159-43bd-ce39-131358ebbb4b"
      },
      "source": [
        "data_gdp.Country.unique()"
      ],
      "execution_count": 5,
      "outputs": [
        {
          "output_type": "execute_result",
          "data": {
            "text/plain": [
              "array(['Aruba', 'Africa Eastern and Southern', 'Afghanistan',\n",
              "       'Africa Western and Central', 'Angola', 'Albania', 'Andorra',\n",
              "       'Arab World', 'United Arab Emirates', 'Argentina', 'Armenia',\n",
              "       'American Samoa', 'Antigua and Barbuda', 'Australia', 'Austria',\n",
              "       'Azerbaijan', 'Burundi', 'Belgium', 'Benin', 'Burkina Faso',\n",
              "       'Bangladesh', 'Bulgaria', 'Bahrain', 'Bahamas, The',\n",
              "       'Bosnia and Herzegovina', 'Belarus', 'Belize', 'Bermuda',\n",
              "       'Bolivia', 'Brazil', 'Barbados', 'Brunei Darussalam', 'Bhutan',\n",
              "       'Botswana', 'Central African Republic', 'Canada',\n",
              "       'Central Europe and the Baltics', 'Switzerland', 'Channel Islands',\n",
              "       'Chile', 'China', \"Cote d'Ivoire\", 'Cameroon', 'Congo, Dem. Rep.',\n",
              "       'Congo, Rep.', 'Colombia', 'Comoros', 'Cabo Verde', 'Costa Rica',\n",
              "       'Caribbean small states', 'Cuba', 'Curacao', 'Cayman Islands',\n",
              "       'Cyprus', 'Czech Republic', 'Germany', 'Djibouti', 'Dominica',\n",
              "       'Denmark', 'Dominican Republic', 'Algeria',\n",
              "       'East Asia & Pacific (excluding high income)',\n",
              "       'Early-demographic dividend', 'East Asia & Pacific',\n",
              "       'Europe & Central Asia (excluding high income)',\n",
              "       'Europe & Central Asia', 'Ecuador', 'Egypt, Arab Rep.',\n",
              "       'Euro area', 'Eritrea', 'Spain', 'Estonia', 'Ethiopia',\n",
              "       'European Union', 'Fragile and conflict affected situations',\n",
              "       'Finland', 'Fiji', 'France', 'Faroe Islands',\n",
              "       'Micronesia, Fed. Sts.', 'Gabon', 'United Kingdom', 'Georgia',\n",
              "       'Ghana', 'Gibraltar', 'Guinea', 'Gambia, The', 'Guinea-Bissau',\n",
              "       'Equatorial Guinea', 'Greece', 'Grenada', 'Greenland', 'Guatemala',\n",
              "       'Guam', 'Guyana', 'High income', 'Hong Kong SAR, China',\n",
              "       'Honduras', 'Heavily indebted poor countries (HIPC)', 'Croatia',\n",
              "       'Haiti', 'Hungary', 'IBRD only', 'IDA & IBRD total', 'IDA total',\n",
              "       'IDA blend', 'Indonesia', 'IDA only', 'Isle of Man', 'India',\n",
              "       'Not classified', 'Ireland', 'Iran, Islamic Rep.', 'Iraq',\n",
              "       'Iceland', 'Israel', 'Italy', 'Jamaica', 'Jordan', 'Japan',\n",
              "       'Kazakhstan', 'Kenya', 'Kyrgyz Republic', 'Cambodia', 'Kiribati',\n",
              "       'St. Kitts and Nevis', 'Korea, Rep.', 'Kuwait',\n",
              "       'Latin America & Caribbean (excluding high income)', 'Lao PDR',\n",
              "       'Lebanon', 'Liberia', 'Libya', 'St. Lucia',\n",
              "       'Latin America & Caribbean',\n",
              "       'Least developed countries: UN classification', 'Low income',\n",
              "       'Liechtenstein', 'Sri Lanka', 'Lower middle income',\n",
              "       'Low & middle income', 'Lesotho', 'Late-demographic dividend',\n",
              "       'Lithuania', 'Luxembourg', 'Latvia', 'Macao SAR, China',\n",
              "       'St. Martin (French part)', 'Morocco', 'Monaco', 'Moldova',\n",
              "       'Madagascar', 'Maldives', 'Middle East & North Africa', 'Mexico',\n",
              "       'Marshall Islands', 'Middle income', 'North Macedonia', 'Mali',\n",
              "       'Malta', 'Myanmar',\n",
              "       'Middle East & North Africa (excluding high income)', 'Montenegro',\n",
              "       'Mongolia', 'Northern Mariana Islands', 'Mozambique', 'Mauritania',\n",
              "       'Mauritius', 'Malawi', 'Malaysia', 'North America', 'Namibia',\n",
              "       'New Caledonia', 'Niger', 'Nigeria', 'Nicaragua', 'Netherlands',\n",
              "       'Norway', 'Nepal', 'Nauru', 'New Zealand', 'OECD members', 'Oman',\n",
              "       'Other small states', 'Pakistan', 'Panama', 'Peru', 'Philippines',\n",
              "       'Palau', 'Papua New Guinea', 'Poland', 'Pre-demographic dividend',\n",
              "       'Puerto Rico', \"Korea, Dem. People's Rep.\", 'Portugal', 'Paraguay',\n",
              "       'West Bank and Gaza', 'Pacific island small states',\n",
              "       'Post-demographic dividend', 'French Polynesia', 'Qatar',\n",
              "       'Romania', 'Russian Federation', 'Rwanda', 'South Asia',\n",
              "       'Saudi Arabia', 'Sudan', 'Senegal', 'Singapore', 'Solomon Islands',\n",
              "       'Sierra Leone', 'El Salvador', 'San Marino', 'Somalia', 'Serbia',\n",
              "       'Sub-Saharan Africa (excluding high income)', 'South Sudan',\n",
              "       'Sub-Saharan Africa', 'Small states', 'Sao Tome and Principe',\n",
              "       'Suriname', 'Slovak Republic', 'Slovenia', 'Sweden', 'Eswatini',\n",
              "       'Sint Maarten (Dutch part)', 'Seychelles', 'Syrian Arab Republic',\n",
              "       'Turks and Caicos Islands', 'Chad',\n",
              "       'East Asia & Pacific (IDA & IBRD countries)',\n",
              "       'Europe & Central Asia (IDA & IBRD countries)', 'Togo', 'Thailand',\n",
              "       'Tajikistan', 'Turkmenistan',\n",
              "       'Latin America & the Caribbean (IDA & IBRD countries)',\n",
              "       'Timor-Leste', 'Middle East & North Africa (IDA & IBRD countries)',\n",
              "       'Tonga', 'South Asia (IDA & IBRD)',\n",
              "       'Sub-Saharan Africa (IDA & IBRD countries)', 'Trinidad and Tobago',\n",
              "       'Tunisia', 'Turkey', 'Tuvalu', 'Tanzania', 'Uganda', 'Ukraine',\n",
              "       'Upper middle income', 'Uruguay', 'United States', 'Uzbekistan',\n",
              "       'St. Vincent and the Grenadines', 'Venezuela, RB',\n",
              "       'British Virgin Islands', 'Virgin Islands (U.S.)', 'Vietnam',\n",
              "       'Vanuatu', 'World', 'Samoa', 'Kosovo', 'Yemen, Rep.',\n",
              "       'South Africa', 'Zambia', 'Zimbabwe'], dtype=object)"
            ]
          },
          "metadata": {},
          "execution_count": 5
        }
      ]
    },
    {
      "cell_type": "markdown",
      "metadata": {
        "id": "6ug5ll0b-s8-"
      },
      "source": [
        "Since the temperature (from the NASA data) is measured worldwide, we need to focus. only on the **World** subcategory (second-to-last row in the list)."
      ]
    },
    {
      "cell_type": "markdown",
      "metadata": {
        "id": "TPbJj4LI9aUl"
      },
      "source": [
        "Finally, let's join the two datasets."
      ]
    },
    {
      "cell_type": "code",
      "metadata": {
        "colab": {
          "base_uri": "https://localhost:8080/",
          "height": 298
        },
        "id": "ROmM3o2I9eBB",
        "outputId": "2ee81508-d59f-4c70-9c5e-40eeb4c24ccc"
      },
      "source": [
        "temp_merge = data_temp.merge(data_gdp.query('Country == \"World\"'),\n",
        "      left_on = 'Year', right_on = 'Year')\n",
        "temp_merge"
      ],
      "execution_count": 6,
      "outputs": [
        {
          "output_type": "execute_result",
          "data": {
            "text/html": [
              "<div>\n",
              "<style scoped>\n",
              "    .dataframe tbody tr th:only-of-type {\n",
              "        vertical-align: middle;\n",
              "    }\n",
              "\n",
              "    .dataframe tbody tr th {\n",
              "        vertical-align: top;\n",
              "    }\n",
              "\n",
              "    .dataframe thead th {\n",
              "        text-align: right;\n",
              "    }\n",
              "</style>\n",
              "<table border=\"1\" class=\"dataframe\">\n",
              "  <thead>\n",
              "    <tr style=\"text-align: right;\">\n",
              "      <th></th>\n",
              "      <th>Year</th>\n",
              "      <th>Temperature</th>\n",
              "      <th>Smoothing</th>\n",
              "      <th>Country</th>\n",
              "      <th>Country Code</th>\n",
              "      <th>Indicator Name</th>\n",
              "      <th>Indicator Code</th>\n",
              "      <th>GDP</th>\n",
              "    </tr>\n",
              "  </thead>\n",
              "  <tbody>\n",
              "    <tr>\n",
              "      <th>0</th>\n",
              "      <td>1960</td>\n",
              "      <td>-0.03</td>\n",
              "      <td>0.03</td>\n",
              "      <td>World</td>\n",
              "      <td>WLD</td>\n",
              "      <td>GDP (current US$)</td>\n",
              "      <td>NY.GDP.MKTP.CD</td>\n",
              "      <td>1.384628e+12</td>\n",
              "    </tr>\n",
              "    <tr>\n",
              "      <th>1</th>\n",
              "      <td>1961</td>\n",
              "      <td>0.06</td>\n",
              "      <td>0.01</td>\n",
              "      <td>World</td>\n",
              "      <td>WLD</td>\n",
              "      <td>GDP (current US$)</td>\n",
              "      <td>NY.GDP.MKTP.CD</td>\n",
              "      <td>1.440342e+12</td>\n",
              "    </tr>\n",
              "    <tr>\n",
              "      <th>2</th>\n",
              "      <td>1962</td>\n",
              "      <td>0.03</td>\n",
              "      <td>-0.01</td>\n",
              "      <td>World</td>\n",
              "      <td>WLD</td>\n",
              "      <td>GDP (current US$)</td>\n",
              "      <td>NY.GDP.MKTP.CD</td>\n",
              "      <td>1.545697e+12</td>\n",
              "    </tr>\n",
              "    <tr>\n",
              "      <th>...</th>\n",
              "      <td>...</td>\n",
              "      <td>...</td>\n",
              "      <td>...</td>\n",
              "      <td>...</td>\n",
              "      <td>...</td>\n",
              "      <td>...</td>\n",
              "      <td>...</td>\n",
              "      <td>...</td>\n",
              "    </tr>\n",
              "    <tr>\n",
              "      <th>58</th>\n",
              "      <td>2018</td>\n",
              "      <td>0.85</td>\n",
              "      <td>0.94</td>\n",
              "      <td>World</td>\n",
              "      <td>WLD</td>\n",
              "      <td>GDP (current US$)</td>\n",
              "      <td>NY.GDP.MKTP.CD</td>\n",
              "      <td>8.634351e+13</td>\n",
              "    </tr>\n",
              "    <tr>\n",
              "      <th>59</th>\n",
              "      <td>2019</td>\n",
              "      <td>0.98</td>\n",
              "      <td>0.98</td>\n",
              "      <td>World</td>\n",
              "      <td>WLD</td>\n",
              "      <td>GDP (current US$)</td>\n",
              "      <td>NY.GDP.MKTP.CD</td>\n",
              "      <td>8.760777e+13</td>\n",
              "    </tr>\n",
              "    <tr>\n",
              "      <th>60</th>\n",
              "      <td>2020</td>\n",
              "      <td>1.02</td>\n",
              "      <td>1.01</td>\n",
              "      <td>World</td>\n",
              "      <td>WLD</td>\n",
              "      <td>GDP (current US$)</td>\n",
              "      <td>NY.GDP.MKTP.CD</td>\n",
              "      <td>8.470543e+13</td>\n",
              "    </tr>\n",
              "  </tbody>\n",
              "</table>\n",
              "<p>61 rows × 8 columns</p>\n",
              "</div>"
            ],
            "text/plain": [
              "    Year  Temperature  ...  Indicator Code           GDP\n",
              "0   1960        -0.03  ...  NY.GDP.MKTP.CD  1.384628e+12\n",
              "1   1961         0.06  ...  NY.GDP.MKTP.CD  1.440342e+12\n",
              "2   1962         0.03  ...  NY.GDP.MKTP.CD  1.545697e+12\n",
              "..   ...          ...  ...             ...           ...\n",
              "58  2018         0.85  ...  NY.GDP.MKTP.CD  8.634351e+13\n",
              "59  2019         0.98  ...  NY.GDP.MKTP.CD  8.760777e+13\n",
              "60  2020         1.02  ...  NY.GDP.MKTP.CD  8.470543e+13\n",
              "\n",
              "[61 rows x 8 columns]"
            ]
          },
          "metadata": {},
          "execution_count": 6
        }
      ]
    },
    {
      "cell_type": "markdown",
      "metadata": {
        "id": "8sEVfS8tBeYq"
      },
      "source": [
        "Let's see how the trends compare from 1960 onwards."
      ]
    },
    {
      "cell_type": "code",
      "metadata": {
        "colab": {
          "base_uri": "https://localhost:8080/",
          "height": 309
        },
        "id": "AOUD_RIFBixY",
        "outputId": "cd7ad914-1162-4751-b4e9-c10439552fe7"
      },
      "source": [
        "ax = temp_merge.plot(x = \"Year\", y = \"Temperature\", legend = False) \n",
        "plt.plot(data_temp.query('Year > 1959').Year, \n",
        "         data_temp.query('Year > 1959').Smoothing, \n",
        "         label = \"Smoothed\")\n",
        "ax2 = ax.twinx()\n",
        "temp_merge.plot(x = \"Year\", y = \"GDP\", ax = ax2, legend = False, color = \"r\")\n",
        "ax.figure.legend()\n",
        "plt.grid()\n",
        "plt.show()\n",
        "plt.rcParams[\"figure.figsize\"]=(10, 6)"
      ],
      "execution_count": 7,
      "outputs": [
        {
          "output_type": "display_data",
          "data": {
            "image/png": "[encoded data removed]",
            "text/plain": [
              "<Figure size 432x288 with 2 Axes>"
            ]
          },
          "metadata": {
            "needs_background": "light"
          }
        }
      ]
    },
    {
      "cell_type": "markdown",
      "metadata": {
        "id": "WU9KGvRK6pKC"
      },
      "source": [
        "## Granger causality\n",
        "### Definition\n",
        "\n",
        "Causality is a complex notion. Clive Granger, who was awarded the Nobel Prize in Economics in 2003, proposed a simple, heuristic model to try to detect a weak form of causality in time-series.   \n",
        "Suppose you are given two time-series, $y_t$ and $x_t$, where $t$ is the time index.  \n",
        "One way to introduce a sense of memory in the model is to assume that $y_t$ depends on past values of the processes, i.e.,  \n",
        "$$y_t = a + \\sum_{s=1}^pb_sy_{t-s}+ \\sum_{r=1}^qd_rx_{t-r}+e_t.$$\n",
        "In the above equation: \n",
        "- $a$ is some real number;\n",
        "- the first sum represents a linear combination of past values of $y_t$, while \n",
        "- the second is a linear combination of the past values of $x_t$;\n",
        "- $e_t$ is an error term: it is not always possible to represent $y_t$ as a simple double sum.  \n",
        "\n",
        "Heuristically, it seems fair to assume that the variable (process) $x$ does not *influence* $y$ if all the coefficents $d_r$ are equal to zero. Basically, this means that $y$ cannot be explained with any past realization of $x_t$.  \n",
        "Thus, we will say that $x$ **does not Granger-cause *y*** if $d_r=0$ for $r=1,...,q$.\n",
        "\n",
        "### Empirical test\n",
        "The test is implemented in the **statsmodels** python module.  \n",
        "It performs 4 similar tests on whether the coefficients of $x$ are all equal to zero.\n"
      ]
    },
    {
      "cell_type": "code",
      "metadata": {
        "colab": {
          "base_uri": "https://localhost:8080/"
        },
        "id": "Q2S_PCegAh1Y",
        "outputId": "7424ded1-27ba-472c-9699-d060242a5da7"
      },
      "source": [
        "granger_test = grangercausalitytests(temp_merge[['Temperature', 'GDP']], maxlag = 4)\n"
      ],
      "execution_count": 25,
      "outputs": [
        {
          "output_type": "stream",
          "name": "stdout",
          "text": [
            "\n",
            "Granger Causality\n",
            "number of lags (no zero) 1\n",
            "ssr based F test:         F=18.2813 , p=0.0001  , df_denom=57, df_num=1\n",
            "ssr based chi2 test:   chi2=19.2435 , p=0.0000  , df=1\n",
            "likelihood ratio test: chi2=16.6908 , p=0.0000  , df=1\n",
            "parameter F test:         F=18.2813 , p=0.0001  , df_denom=57, df_num=1\n",
            "\n",
            "Granger Causality\n",
            "number of lags (no zero) 2\n",
            "ssr based F test:         F=6.9628  , p=0.0020  , df_denom=54, df_num=2\n",
            "ssr based chi2 test:   chi2=15.2150 , p=0.0005  , df=2\n",
            "likelihood ratio test: chi2=13.5363 , p=0.0011  , df=2\n",
            "parameter F test:         F=6.9146  , p=0.0021  , df_denom=54, df_num=2\n",
            "\n",
            "Granger Causality\n",
            "number of lags (no zero) 3\n",
            "ssr based F test:         F=3.1166  , p=0.0337  , df_denom=53, df_num=3\n",
            "ssr based chi2 test:   chi2=10.2320 , p=0.0167  , df=3\n",
            "likelihood ratio test: chi2=9.4233  , p=0.0242  , df=3\n",
            "parameter F test:         F=3.1317  , p=0.0331  , df_denom=53, df_num=3\n",
            "\n",
            "Granger Causality\n",
            "number of lags (no zero) 4\n",
            "ssr based F test:         F=1.4815  , p=0.2215  , df_denom=51, df_num=4\n",
            "ssr based chi2 test:   chi2=6.6233  , p=0.1572  , df=4\n",
            "likelihood ratio test: chi2=6.2659  , p=0.1801  , df=4\n",
            "parameter F test:         F=1.6105  , p=0.1859  , df_denom=51, df_num=4\n",
            "\n",
            "Granger Causality\n",
            "number of lags (no zero) 5\n",
            "ssr based F test:         F=0.4716  , p=0.7956  , df_denom=50, df_num=5\n",
            "ssr based chi2 test:   chi2=2.6410  , p=0.7551  , df=5\n",
            "likelihood ratio test: chi2=2.5807  , p=0.7643  , df=5\n",
            "parameter F test:         F=1.7347  , p=0.1439  , df_denom=50, df_num=5\n"
          ]
        }
      ]
    },
    {
      "cell_type": "markdown",
      "metadata": {
        "id": "AYJgqw4iYmA0"
      },
      "source": [
        "## The long term perspective\n"
      ]
    },
    {
      "cell_type": "markdown",
      "metadata": {
        "id": "VDJCDRVXY5YZ"
      },
      "source": [
        "The new GDP data is sourced from the Github account of **Our World in Data**, but the origin is the New Maddison Project Database and the World Bank."
      ]
    },
    {
      "cell_type": "code",
      "metadata": {
        "colab": {
          "base_uri": "https://localhost:8080/",
          "height": 399
        },
        "id": "K6OvQ__GY2X8",
        "outputId": "034cb176-568e-49b5-f22c-31665b9ac01e"
      },
      "source": [
        "url =\"https://raw.githubusercontent.com/owid/owid-datasets/master/datasets/World%20GDP%20in%202011%20int%20%24%20%E2%80%93%20OWID%20based%20on%20World%20Bank%20%2B%20Maddison%20(2017)/World%20GDP%20in%202011%20int%20%24%20%E2%80%93%20OWID%20based%20on%20World%20Bank%20%2B%20Maddison%20(2017).csv\"\n",
        "gpd_lt = pd.read_csv(url)\n",
        "gpd_lt.columns.values[2] = \"GDP\"\n",
        "gpd_lt.plot(x = \"Year\", y = \"GDP\");"
      ],
      "execution_count": 9,
      "outputs": [
        {
          "output_type": "display_data",
          "data": {
            "image/png": "[encoded data removed]",
            "text/plain": [
              "<Figure size 720x432 with 1 Axes>"
            ]
          },
          "metadata": {
            "needs_background": "light"
          }
        }
      ]
    },
    {
      "cell_type": "markdown",
      "metadata": {
        "id": "OmdPydwYbSWc"
      },
      "source": [
        "A long-term perspective shows the exponential nature of economic growth."
      ]
    },
    {
      "cell_type": "code",
      "metadata": {
        "colab": {
          "base_uri": "https://localhost:8080/",
          "height": 435
        },
        "id": "RCalzNh9gglB",
        "outputId": "ccb960c1-4c35-4cdc-b310-2089313b2143"
      },
      "source": [
        "ax = data_temp.plot(x = \"Year\", y = \"Smoothing\", legend = False, color = 'g') \n",
        "ax2 = ax.twinx()\n",
        "temp_merge.plot(x = \"Year\", y = \"GDP\", ax = ax2, legend = False, color = \"r\")\n",
        "plt.plot(gpd_lt.query('Year > 1849').Year, \n",
        "         gpd_lt.query('Year > 1849').GDP, \n",
        "         label = \"LT GDP\")\n",
        "ax.figure.legend()\n",
        "plt.grid()\n",
        "plt.show()\n",
        "plt.rcParams[\"figure.figsize\"]=(10, 6)"
      ],
      "execution_count": 10,
      "outputs": [
        {
          "output_type": "display_data",
          "data": {
            "image/png": "[encoded data removed]",
            "text/plain": [
              "<Figure size 720x432 with 2 Axes>"
            ]
          },
          "metadata": {
            "needs_background": "light"
          }
        }
      ]
    },
    {
      "cell_type": "markdown",
      "metadata": {
        "id": "egO1njkomOuH"
      },
      "source": [
        "# Conclusion\n",
        "\n",
        "Economic output and rising temperatures are **linked**. While our analysis is not sufficient to prove **causality**, there is strong consensus among the scientific community that global warming stems from human activity (even via cattle!).  \n",
        "An important note: temperature is not the only relevant indicator. **Precipitation** (& humidity) is another facet of climate that is impacted by GHG emissions. The recent trends show extreme dynamics: dry places become drier and \"wet\" areas experience more and more intense rain episodes."
      ]
    }
  ]
}