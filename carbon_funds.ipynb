{
  "nbformat": 4,
  "nbformat_minor": 0,
  "metadata": {
    "colab": {
      "name": "carbon_funds.ipynb",
      "provenance": [],
      "collapsed_sections": [],
      "authorship_tag": "ABX9TyNI68K7iBivMAYvJTTt82Th",
      "include_colab_link": true
    },
    "kernelspec": {
      "name": "python3",
      "display_name": "Python 3"
    },
    "language_info": {
      "name": "python"
    }
  },
  "cells": [
    {
      "cell_type": "markdown",
      "metadata": {
        "id": "view-in-github",
        "colab_type": "text"
      },
      "source": [
        "<a href=\"https://colab.research.google.com/github/shokru/carbon_emissions/blob/main/carbon_funds.ipynb\" target=\"_parent\"><img src=\"https://colab.research.google.com/assets/colab-badge.svg\" alt=\"Open In Colab\"/></a>"
      ]
    },
    {
      "cell_type": "markdown",
      "metadata": {
        "id": "no_7XL3P6E9G"
      },
      "source": [
        "# Green vs conventional assets: a comparison\n",
        "\n",
        "This notebook seeks to compare the performance of traditional versus green investment vehicles.\n",
        "\n",
        "We download data from **Yahoo Finance**, which requires the installation of a dedicated Python module:"
      ]
    },
    {
      "cell_type": "code",
      "metadata": {
        "colab": {
          "base_uri": "https://localhost:8080/"
        },
        "id": "KwP6rvfI6lm2",
        "outputId": "18cd3c55-e82e-4cfa-fe63-43f714b3b1f8"
      },
      "source": [
        "!pip install yfinance # If need be... yfinance serves to import financial data "
      ],
      "execution_count": 1,
      "outputs": [
        {
          "output_type": "stream",
          "name": "stdout",
          "text": [
            "Collecting yfinance\n",
            "  Downloading yfinance-0.1.64.tar.gz (26 kB)\n",
            "Requirement already satisfied: pandas>=0.24 in /usr/local/lib/python3.7/dist-packages (from yfinance) (1.1.5)\n",
            "Requirement already satisfied: numpy>=1.15 in /usr/local/lib/python3.7/dist-packages (from yfinance) (1.19.5)\n",
            "Requirement already satisfied: requests>=2.20 in /usr/local/lib/python3.7/dist-packages (from yfinance) (2.23.0)\n",
            "Requirement already satisfied: multitasking>=0.0.7 in /usr/local/lib/python3.7/dist-packages (from yfinance) (0.0.9)\n",
            "Collecting lxml>=4.5.1\n",
            "  Downloading lxml-4.6.3-cp37-cp37m-manylinux2014_x86_64.whl (6.3 MB)\n",
            "\u001b[K     |████████████████████████████████| 6.3 MB 16.4 MB/s \n",
            "\u001b[?25hRequirement already satisfied: python-dateutil>=2.7.3 in /usr/local/lib/python3.7/dist-packages (from pandas>=0.24->yfinance) (2.8.2)\n",
            "Requirement already satisfied: pytz>=2017.2 in /usr/local/lib/python3.7/dist-packages (from pandas>=0.24->yfinance) (2018.9)\n",
            "Requirement already satisfied: six>=1.5 in /usr/local/lib/python3.7/dist-packages (from python-dateutil>=2.7.3->pandas>=0.24->yfinance) (1.15.0)\n",
            "Requirement already satisfied: certifi>=2017.4.17 in /usr/local/lib/python3.7/dist-packages (from requests>=2.20->yfinance) (2021.5.30)\n",
            "Requirement already satisfied: idna<3,>=2.5 in /usr/local/lib/python3.7/dist-packages (from requests>=2.20->yfinance) (2.10)\n",
            "Requirement already satisfied: urllib3!=1.25.0,!=1.25.1,<1.26,>=1.21.1 in /usr/local/lib/python3.7/dist-packages (from requests>=2.20->yfinance) (1.24.3)\n",
            "Requirement already satisfied: chardet<4,>=3.0.2 in /usr/local/lib/python3.7/dist-packages (from requests>=2.20->yfinance) (3.0.4)\n",
            "Building wheels for collected packages: yfinance\n",
            "  Building wheel for yfinance (setup.py) ... \u001b[?25l\u001b[?25hdone\n",
            "  Created wheel for yfinance: filename=yfinance-0.1.64-py2.py3-none-any.whl size=24109 sha256=0061e35725cc6534a4936d096829e05fa3b1acd5b27a61f414430b33e5387c5d\n",
            "  Stored in directory: /root/.cache/pip/wheels/86/fe/9b/a4d3d78796b699e37065e5b6c27b75cff448ddb8b24943c288\n",
            "Successfully built yfinance\n",
            "Installing collected packages: lxml, yfinance\n",
            "  Attempting uninstall: lxml\n",
            "    Found existing installation: lxml 4.2.6\n",
            "    Uninstalling lxml-4.2.6:\n",
            "      Successfully uninstalled lxml-4.2.6\n",
            "Successfully installed lxml-4.6.3 yfinance-0.1.64\n"
          ]
        }
      ]
    },
    {
      "cell_type": "code",
      "metadata": {
        "id": "KuSMT6jX57ax"
      },
      "source": [
        "import datetime\n",
        "import numpy as np\n",
        "import pandas as pd\n",
        "import seaborn as sns\n",
        "import matplotlib.pyplot as plt\n",
        "import plotly.express as px\n",
        "from sklearn.covariance import LedoitWolf\n",
        "import plotly.io as pio\n",
        "import yfinance as yf\n",
        "pd.set_option('display.max_rows', 6)     # First 3 and last 3 rows will be shown"
      ],
      "execution_count": 20,
      "outputs": []
    },
    {
      "cell_type": "markdown",
      "metadata": {
        "id": "OlCA5Qpo60lQ"
      },
      "source": [
        "## Import the data\n",
        "Then, let's import the data from Yahoo Finance. \n",
        "We consider 2 tickers, and merge the 2 resulting dataframes into the object **data**.  \n",
        "The first ticker is **SPY**, which is an ETF on the S&P500: it is a proxy for the US equity market.  \n",
        "The second one (**SUSA**) stands from *iShares MSCI USA ESG Select ETF*, and will proxy for the *green* equivalent of the traditional market."
      ]
    },
    {
      "cell_type": "code",
      "metadata": {
        "colab": {
          "base_uri": "https://localhost:8080/",
          "height": 326
        },
        "id": "qZfWdBHs7nG7",
        "outputId": "420fce0e-2efd-4176-e751-05696bc2a8e2"
      },
      "source": [
        "spy = yf.Ticker(\"SPY\")\n",
        "susa = yf.Ticker(\"SUSA\")\n",
        "\n",
        "data = susa.history(start=\"2005-01-28\", end=\"2021-07-30\").assign(Ticker = 'SUSA').append(\n",
        "       spy.history(start=\"2005-01-28\", end=\"2021-07-30\").assign(Ticker = 'SPY'))\n",
        "data"
      ],
      "execution_count": 3,
      "outputs": [
        {
          "output_type": "execute_result",
          "data": {
            "text/html": [
              "<div>\n",
              "<style scoped>\n",
              "    .dataframe tbody tr th:only-of-type {\n",
              "        vertical-align: middle;\n",
              "    }\n",
              "\n",
              "    .dataframe tbody tr th {\n",
              "        vertical-align: top;\n",
              "    }\n",
              "\n",
              "    .dataframe thead th {\n",
              "        text-align: right;\n",
              "    }\n",
              "</style>\n",
              "<table border=\"1\" class=\"dataframe\">\n",
              "  <thead>\n",
              "    <tr style=\"text-align: right;\">\n",
              "      <th></th>\n",
              "      <th>Open</th>\n",
              "      <th>High</th>\n",
              "      <th>Low</th>\n",
              "      <th>Close</th>\n",
              "      <th>Volume</th>\n",
              "      <th>Dividends</th>\n",
              "      <th>Stock Splits</th>\n",
              "      <th>Ticker</th>\n",
              "    </tr>\n",
              "    <tr>\n",
              "      <th>Date</th>\n",
              "      <th></th>\n",
              "      <th></th>\n",
              "      <th></th>\n",
              "      <th></th>\n",
              "      <th></th>\n",
              "      <th></th>\n",
              "      <th></th>\n",
              "      <th></th>\n",
              "    </tr>\n",
              "  </thead>\n",
              "  <tbody>\n",
              "    <tr>\n",
              "      <th>2005-01-28</th>\n",
              "      <td>19.458911</td>\n",
              "      <td>19.458911</td>\n",
              "      <td>19.354063</td>\n",
              "      <td>19.354063</td>\n",
              "      <td>2600</td>\n",
              "      <td>0.0</td>\n",
              "      <td>0.0</td>\n",
              "      <td>SUSA</td>\n",
              "    </tr>\n",
              "    <tr>\n",
              "      <th>2005-01-31</th>\n",
              "      <td>19.544341</td>\n",
              "      <td>19.555990</td>\n",
              "      <td>19.536574</td>\n",
              "      <td>19.548223</td>\n",
              "      <td>10400</td>\n",
              "      <td>0.0</td>\n",
              "      <td>0.0</td>\n",
              "      <td>SUSA</td>\n",
              "    </tr>\n",
              "    <tr>\n",
              "      <th>2005-02-01</th>\n",
              "      <td>19.610353</td>\n",
              "      <td>19.746266</td>\n",
              "      <td>19.610353</td>\n",
              "      <td>19.722967</td>\n",
              "      <td>2200</td>\n",
              "      <td>0.0</td>\n",
              "      <td>0.0</td>\n",
              "      <td>SUSA</td>\n",
              "    </tr>\n",
              "    <tr>\n",
              "      <th>...</th>\n",
              "      <td>...</td>\n",
              "      <td>...</td>\n",
              "      <td>...</td>\n",
              "      <td>...</td>\n",
              "      <td>...</td>\n",
              "      <td>...</td>\n",
              "      <td>...</td>\n",
              "      <td>...</td>\n",
              "    </tr>\n",
              "    <tr>\n",
              "      <th>2021-07-27</th>\n",
              "      <td>438.505183</td>\n",
              "      <td>438.535086</td>\n",
              "      <td>434.597687</td>\n",
              "      <td>437.608063</td>\n",
              "      <td>67397100</td>\n",
              "      <td>0.0</td>\n",
              "      <td>0.0</td>\n",
              "      <td>SPY</td>\n",
              "    </tr>\n",
              "    <tr>\n",
              "      <th>2021-07-28</th>\n",
              "      <td>438.275911</td>\n",
              "      <td>438.893926</td>\n",
              "      <td>435.913484</td>\n",
              "      <td>437.428619</td>\n",
              "      <td>52472400</td>\n",
              "      <td>0.0</td>\n",
              "      <td>0.0</td>\n",
              "      <td>SPY</td>\n",
              "    </tr>\n",
              "    <tr>\n",
              "      <th>2021-07-29</th>\n",
              "      <td>438.415462</td>\n",
              "      <td>440.389119</td>\n",
              "      <td>438.405484</td>\n",
              "      <td>439.242798</td>\n",
              "      <td>47435300</td>\n",
              "      <td>0.0</td>\n",
              "      <td>0.0</td>\n",
              "      <td>SPY</td>\n",
              "    </tr>\n",
              "  </tbody>\n",
              "</table>\n",
              "<p>8308 rows × 8 columns</p>\n",
              "</div>"
            ],
            "text/plain": [
              "                  Open        High         Low  ...  Dividends  Stock Splits  Ticker\n",
              "Date                                            ...                                 \n",
              "2005-01-28   19.458911   19.458911   19.354063  ...        0.0           0.0    SUSA\n",
              "2005-01-31   19.544341   19.555990   19.536574  ...        0.0           0.0    SUSA\n",
              "2005-02-01   19.610353   19.746266   19.610353  ...        0.0           0.0    SUSA\n",
              "...                ...         ...         ...  ...        ...           ...     ...\n",
              "2021-07-27  438.505183  438.535086  434.597687  ...        0.0           0.0     SPY\n",
              "2021-07-28  438.275911  438.893926  435.913484  ...        0.0           0.0     SPY\n",
              "2021-07-29  438.415462  440.389119  438.405484  ...        0.0           0.0     SPY\n",
              "\n",
              "[8308 rows x 8 columns]"
            ]
          },
          "metadata": {},
          "execution_count": 3
        }
      ]
    },
    {
      "cell_type": "markdown",
      "metadata": {
        "id": "tztbpG3V72Rg"
      },
      "source": [
        "# First plots\n",
        "\n",
        "Let's have a look!"
      ]
    },
    {
      "cell_type": "code",
      "metadata": {
        "colab": {
          "base_uri": "https://localhost:8080/",
          "height": 382
        },
        "id": "Re1SnUYo7z9N",
        "outputId": "b7d58093-0be9-4a4b-b621-473114f1819d"
      },
      "source": [
        "sns.set_theme()\n",
        "sns.relplot(\n",
        "    data = data.reset_index(),   # Data source = the data object\n",
        "    kind = \"line\",               # Graph type = line\n",
        "    x = \"Date\",                  # x-axis = Date column (of course!)\n",
        "    y = \"Close\",                 # y-axis = Close column\n",
        "    hue = \"Ticker\",              # One color for each asset\n",
        "    palette=[\"g\", \"r\"]           # Green for the green asset!\n",
        ")"
      ],
      "execution_count": 4,
      "outputs": [
        {
          "output_type": "execute_result",
          "data": {
            "text/plain": [
              "<seaborn.axisgrid.FacetGrid at 0x7fb55f7f9e90>"
            ]
          },
          "metadata": {},
          "execution_count": 4
        },
        {
          "output_type": "display_data",
          "data": {
            "image/png": "[encoded data removed]",
            "text/plain": [
              "<Figure size 429.475x360 with 1 Axes>"
            ]
          },
          "metadata": {}
        }
      ]
    },
    {
      "cell_type": "markdown",
      "metadata": {
        "id": "a9qA32G38NcS"
      },
      "source": [
        "Both curves are hard to compare because they do not start at the same value!\n",
        "\n",
        "We must normalize them. We do so by introducing a new column, the normalized close price, 'N_Close'. "
      ]
    },
    {
      "cell_type": "code",
      "metadata": {
        "colab": {
          "base_uri": "https://localhost:8080/",
          "height": 326
        },
        "id": "94Lpoh-8IUfv",
        "outputId": "6b2a2b9a-5b38-47f8-93d0-ea8aa4d032c6"
      },
      "source": [
        "data['N_Close'] = data.groupby('Ticker')['Close'].transform(lambda x: x/x[0])\n",
        "data"
      ],
      "execution_count": 5,
      "outputs": [
        {
          "output_type": "execute_result",
          "data": {
            "text/html": [
              "<div>\n",
              "<style scoped>\n",
              "    .dataframe tbody tr th:only-of-type {\n",
              "        vertical-align: middle;\n",
              "    }\n",
              "\n",
              "    .dataframe tbody tr th {\n",
              "        vertical-align: top;\n",
              "    }\n",
              "\n",
              "    .dataframe thead th {\n",
              "        text-align: right;\n",
              "    }\n",
              "</style>\n",
              "<table border=\"1\" class=\"dataframe\">\n",
              "  <thead>\n",
              "    <tr style=\"text-align: right;\">\n",
              "      <th></th>\n",
              "      <th>Open</th>\n",
              "      <th>High</th>\n",
              "      <th>Low</th>\n",
              "      <th>Close</th>\n",
              "      <th>Volume</th>\n",
              "      <th>Dividends</th>\n",
              "      <th>Stock Splits</th>\n",
              "      <th>Ticker</th>\n",
              "      <th>N_Close</th>\n",
              "    </tr>\n",
              "    <tr>\n",
              "      <th>Date</th>\n",
              "      <th></th>\n",
              "      <th></th>\n",
              "      <th></th>\n",
              "      <th></th>\n",
              "      <th></th>\n",
              "      <th></th>\n",
              "      <th></th>\n",
              "      <th></th>\n",
              "      <th></th>\n",
              "    </tr>\n",
              "  </thead>\n",
              "  <tbody>\n",
              "    <tr>\n",
              "      <th>2005-01-28</th>\n",
              "      <td>19.458911</td>\n",
              "      <td>19.458911</td>\n",
              "      <td>19.354063</td>\n",
              "      <td>19.354063</td>\n",
              "      <td>2600</td>\n",
              "      <td>0.0</td>\n",
              "      <td>0.0</td>\n",
              "      <td>SUSA</td>\n",
              "      <td>1.000000</td>\n",
              "    </tr>\n",
              "    <tr>\n",
              "      <th>2005-01-31</th>\n",
              "      <td>19.544341</td>\n",
              "      <td>19.555990</td>\n",
              "      <td>19.536574</td>\n",
              "      <td>19.548223</td>\n",
              "      <td>10400</td>\n",
              "      <td>0.0</td>\n",
              "      <td>0.0</td>\n",
              "      <td>SUSA</td>\n",
              "      <td>1.010032</td>\n",
              "    </tr>\n",
              "    <tr>\n",
              "      <th>2005-02-01</th>\n",
              "      <td>19.610353</td>\n",
              "      <td>19.746266</td>\n",
              "      <td>19.610353</td>\n",
              "      <td>19.722967</td>\n",
              "      <td>2200</td>\n",
              "      <td>0.0</td>\n",
              "      <td>0.0</td>\n",
              "      <td>SUSA</td>\n",
              "      <td>1.019061</td>\n",
              "    </tr>\n",
              "    <tr>\n",
              "      <th>...</th>\n",
              "      <td>...</td>\n",
              "      <td>...</td>\n",
              "      <td>...</td>\n",
              "      <td>...</td>\n",
              "      <td>...</td>\n",
              "      <td>...</td>\n",
              "      <td>...</td>\n",
              "      <td>...</td>\n",
              "      <td>...</td>\n",
              "    </tr>\n",
              "    <tr>\n",
              "      <th>2021-07-27</th>\n",
              "      <td>438.505183</td>\n",
              "      <td>438.535086</td>\n",
              "      <td>434.597687</td>\n",
              "      <td>437.608063</td>\n",
              "      <td>67397100</td>\n",
              "      <td>0.0</td>\n",
              "      <td>0.0</td>\n",
              "      <td>SPY</td>\n",
              "      <td>5.178226</td>\n",
              "    </tr>\n",
              "    <tr>\n",
              "      <th>2021-07-28</th>\n",
              "      <td>438.275911</td>\n",
              "      <td>438.893926</td>\n",
              "      <td>435.913484</td>\n",
              "      <td>437.428619</td>\n",
              "      <td>52472400</td>\n",
              "      <td>0.0</td>\n",
              "      <td>0.0</td>\n",
              "      <td>SPY</td>\n",
              "      <td>5.176102</td>\n",
              "    </tr>\n",
              "    <tr>\n",
              "      <th>2021-07-29</th>\n",
              "      <td>438.415462</td>\n",
              "      <td>440.389119</td>\n",
              "      <td>438.405484</td>\n",
              "      <td>439.242798</td>\n",
              "      <td>47435300</td>\n",
              "      <td>0.0</td>\n",
              "      <td>0.0</td>\n",
              "      <td>SPY</td>\n",
              "      <td>5.197569</td>\n",
              "    </tr>\n",
              "  </tbody>\n",
              "</table>\n",
              "<p>8308 rows × 9 columns</p>\n",
              "</div>"
            ],
            "text/plain": [
              "                  Open        High         Low  ...  Stock Splits  Ticker   N_Close\n",
              "Date                                            ...                                \n",
              "2005-01-28   19.458911   19.458911   19.354063  ...           0.0    SUSA  1.000000\n",
              "2005-01-31   19.544341   19.555990   19.536574  ...           0.0    SUSA  1.010032\n",
              "2005-02-01   19.610353   19.746266   19.610353  ...           0.0    SUSA  1.019061\n",
              "...                ...         ...         ...  ...           ...     ...       ...\n",
              "2021-07-27  438.505183  438.535086  434.597687  ...           0.0     SPY  5.178226\n",
              "2021-07-28  438.275911  438.893926  435.913484  ...           0.0     SPY  5.176102\n",
              "2021-07-29  438.415462  440.389119  438.405484  ...           0.0     SPY  5.197569\n",
              "\n",
              "[8308 rows x 9 columns]"
            ]
          },
          "metadata": {},
          "execution_count": 5
        }
      ]
    },
    {
      "cell_type": "code",
      "metadata": {
        "colab": {
          "base_uri": "https://localhost:8080/",
          "height": 382
        },
        "id": "eeNJK-cU8PPa",
        "outputId": "653398a2-1e5e-49e3-f6d9-1ca1b1793d3c"
      },
      "source": [
        "sns.set_theme()\n",
        "sns.relplot(\n",
        "    data = data.reset_index(),  # Data source = the data object\n",
        "    kind = \"line\",              # Graph type = line\n",
        "    x = \"Date\",                 # x-axis = Date column (of course!)\n",
        "    y = \"N_Close\",              # y-axis = the normalised Close column\n",
        "    hue = \"Ticker\",             # One color for each asset\n",
        "    palette=[\"g\", \"r\"]          # Green for the green asset!\n",
        ")"
      ],
      "execution_count": 6,
      "outputs": [
        {
          "output_type": "execute_result",
          "data": {
            "text/plain": [
              "<seaborn.axisgrid.FacetGrid at 0x7fb53a77b950>"
            ]
          },
          "metadata": {},
          "execution_count": 6
        },
        {
          "output_type": "display_data",
          "data": {
            "image/png": "[encoded data removed]",
            "text/plain": [
              "<Figure size 429.475x360 with 1 Axes>"
            ]
          },
          "metadata": {}
        }
      ]
    },
    {
      "cell_type": "markdown",
      "metadata": {
        "id": "nLrGkJyl0146"
      },
      "source": [
        "The two curves are very close!\n",
        "This is a first hint that sustainable investing is not much different from traditional investing.\n",
        "\n",
        "## Working on returns\n",
        "To deepen the analysis, we must look at returns.\n",
        "We add the year column to ease the computation of pivot tables."
      ]
    },
    {
      "cell_type": "code",
      "metadata": {
        "colab": {
          "base_uri": "https://localhost:8080/",
          "height": 326
        },
        "id": "Y2ZKqdRw081z",
        "outputId": "03470d33-9de7-4d33-df36-3e76072172e6"
      },
      "source": [
        "data['Return'] = data['Close'] / data.groupby('Ticker')['Close'].shift(1) - 1\n",
        "data['Year'] = data.index.year\n",
        "data"
      ],
      "execution_count": 7,
      "outputs": [
        {
          "output_type": "execute_result",
          "data": {
            "text/html": [
              "<div>\n",
              "<style scoped>\n",
              "    .dataframe tbody tr th:only-of-type {\n",
              "        vertical-align: middle;\n",
              "    }\n",
              "\n",
              "    .dataframe tbody tr th {\n",
              "        vertical-align: top;\n",
              "    }\n",
              "\n",
              "    .dataframe thead th {\n",
              "        text-align: right;\n",
              "    }\n",
              "</style>\n",
              "<table border=\"1\" class=\"dataframe\">\n",
              "  <thead>\n",
              "    <tr style=\"text-align: right;\">\n",
              "      <th></th>\n",
              "      <th>Open</th>\n",
              "      <th>High</th>\n",
              "      <th>Low</th>\n",
              "      <th>Close</th>\n",
              "      <th>Volume</th>\n",
              "      <th>Dividends</th>\n",
              "      <th>Stock Splits</th>\n",
              "      <th>Ticker</th>\n",
              "      <th>N_Close</th>\n",
              "      <th>Return</th>\n",
              "      <th>Year</th>\n",
              "    </tr>\n",
              "    <tr>\n",
              "      <th>Date</th>\n",
              "      <th></th>\n",
              "      <th></th>\n",
              "      <th></th>\n",
              "      <th></th>\n",
              "      <th></th>\n",
              "      <th></th>\n",
              "      <th></th>\n",
              "      <th></th>\n",
              "      <th></th>\n",
              "      <th></th>\n",
              "      <th></th>\n",
              "    </tr>\n",
              "  </thead>\n",
              "  <tbody>\n",
              "    <tr>\n",
              "      <th>2005-01-28</th>\n",
              "      <td>19.458911</td>\n",
              "      <td>19.458911</td>\n",
              "      <td>19.354063</td>\n",
              "      <td>19.354063</td>\n",
              "      <td>2600</td>\n",
              "      <td>0.0</td>\n",
              "      <td>0.0</td>\n",
              "      <td>SUSA</td>\n",
              "      <td>1.000000</td>\n",
              "      <td>NaN</td>\n",
              "      <td>2005</td>\n",
              "    </tr>\n",
              "    <tr>\n",
              "      <th>2005-01-31</th>\n",
              "      <td>19.544341</td>\n",
              "      <td>19.555990</td>\n",
              "      <td>19.536574</td>\n",
              "      <td>19.548223</td>\n",
              "      <td>10400</td>\n",
              "      <td>0.0</td>\n",
              "      <td>0.0</td>\n",
              "      <td>SUSA</td>\n",
              "      <td>1.010032</td>\n",
              "      <td>0.010032</td>\n",
              "      <td>2005</td>\n",
              "    </tr>\n",
              "    <tr>\n",
              "      <th>2005-02-01</th>\n",
              "      <td>19.610353</td>\n",
              "      <td>19.746266</td>\n",
              "      <td>19.610353</td>\n",
              "      <td>19.722967</td>\n",
              "      <td>2200</td>\n",
              "      <td>0.0</td>\n",
              "      <td>0.0</td>\n",
              "      <td>SUSA</td>\n",
              "      <td>1.019061</td>\n",
              "      <td>0.008939</td>\n",
              "      <td>2005</td>\n",
              "    </tr>\n",
              "    <tr>\n",
              "      <th>...</th>\n",
              "      <td>...</td>\n",
              "      <td>...</td>\n",
              "      <td>...</td>\n",
              "      <td>...</td>\n",
              "      <td>...</td>\n",
              "      <td>...</td>\n",
              "      <td>...</td>\n",
              "      <td>...</td>\n",
              "      <td>...</td>\n",
              "      <td>...</td>\n",
              "      <td>...</td>\n",
              "    </tr>\n",
              "    <tr>\n",
              "      <th>2021-07-27</th>\n",
              "      <td>438.505183</td>\n",
              "      <td>438.535086</td>\n",
              "      <td>434.597687</td>\n",
              "      <td>437.608063</td>\n",
              "      <td>67397100</td>\n",
              "      <td>0.0</td>\n",
              "      <td>0.0</td>\n",
              "      <td>SPY</td>\n",
              "      <td>5.178226</td>\n",
              "      <td>-0.004558</td>\n",
              "      <td>2021</td>\n",
              "    </tr>\n",
              "    <tr>\n",
              "      <th>2021-07-28</th>\n",
              "      <td>438.275911</td>\n",
              "      <td>438.893926</td>\n",
              "      <td>435.913484</td>\n",
              "      <td>437.428619</td>\n",
              "      <td>52472400</td>\n",
              "      <td>0.0</td>\n",
              "      <td>0.0</td>\n",
              "      <td>SPY</td>\n",
              "      <td>5.176102</td>\n",
              "      <td>-0.000410</td>\n",
              "      <td>2021</td>\n",
              "    </tr>\n",
              "    <tr>\n",
              "      <th>2021-07-29</th>\n",
              "      <td>438.415462</td>\n",
              "      <td>440.389119</td>\n",
              "      <td>438.405484</td>\n",
              "      <td>439.242798</td>\n",
              "      <td>47435300</td>\n",
              "      <td>0.0</td>\n",
              "      <td>0.0</td>\n",
              "      <td>SPY</td>\n",
              "      <td>5.197569</td>\n",
              "      <td>0.004147</td>\n",
              "      <td>2021</td>\n",
              "    </tr>\n",
              "  </tbody>\n",
              "</table>\n",
              "<p>8308 rows × 11 columns</p>\n",
              "</div>"
            ],
            "text/plain": [
              "                  Open        High         Low  ...   N_Close    Return  Year\n",
              "Date                                            ...                          \n",
              "2005-01-28   19.458911   19.458911   19.354063  ...  1.000000       NaN  2005\n",
              "2005-01-31   19.544341   19.555990   19.536574  ...  1.010032  0.010032  2005\n",
              "2005-02-01   19.610353   19.746266   19.610353  ...  1.019061  0.008939  2005\n",
              "...                ...         ...         ...  ...       ...       ...   ...\n",
              "2021-07-27  438.505183  438.535086  434.597687  ...  5.178226 -0.004558  2021\n",
              "2021-07-28  438.275911  438.893926  435.913484  ...  5.176102 -0.000410  2021\n",
              "2021-07-29  438.415462  440.389119  438.405484  ...  5.197569  0.004147  2021\n",
              "\n",
              "[8308 rows x 11 columns]"
            ]
          },
          "metadata": {},
          "execution_count": 7
        }
      ]
    },
    {
      "cell_type": "markdown",
      "metadata": {
        "id": "78psnbHz1FKQ"
      },
      "source": [
        "We then proceed to a pivot table in which we compute, for each calendar year, the **average daily return** over each index.\n",
        "We plot the result immediately. The pivot table is coded in the complex row."
      ]
    },
    {
      "cell_type": "code",
      "metadata": {
        "colab": {
          "base_uri": "https://localhost:8080/",
          "height": 534
        },
        "id": "oGmq0VS01DGb",
        "outputId": "67bc4e5a-2643-43e5-f7b7-fbb7868a3147"
      },
      "source": [
        "sns.set(rc={'figure.figsize':(11.7,8.27)})\n",
        "sns.set_style(\"whitegrid\")\n",
        "sns.barplot(\n",
        "    data = data.dropna().pivot_table(values = 'Return', index = ['Ticker','Year'], aggfunc = np.mean).reset_index(),\n",
        "    x = \"Year\",        # x-axis = Year column \n",
        "    y = \"Return\",      # y-axis = the average return\n",
        "    hue = \"Ticker\",    # One color for each asset\n",
        "    palette=[\"r\", \"g\"] # Green for the green asset!\n",
        ")"
      ],
      "execution_count": 8,
      "outputs": [
        {
          "output_type": "execute_result",
          "data": {
            "text/plain": [
              "<matplotlib.axes._subplots.AxesSubplot at 0x7fb5316ebb10>"
            ]
          },
          "metadata": {},
          "execution_count": 8
        },
        {
          "output_type": "display_data",
          "data": {
            "image/png": "[encoded data removed]",
            "text/plain": [
              "<Figure size 842.4x595.44 with 1 Axes>"
            ]
          },
          "metadata": {}
        }
      ]
    },
    {
      "cell_type": "markdown",
      "metadata": {
        "id": "P6UpqS3t1K_Q"
      },
      "source": [
        "This confirms that the two indices are relatively close. An interesting remark is \n",
        "\n",
        "that the green index performs better than the traditional one after major crises, e.g., in 2009 (post subprime turmoil) and in 2020-2021 (post Covid crash).\n"
      ]
    },
    {
      "cell_type": "code",
      "metadata": {
        "colab": {
          "base_uri": "https://localhost:8080/",
          "height": 382
        },
        "id": "FsMKD7Jf1OoL",
        "outputId": "c6e542ef-4a72-480b-d30c-4eb6ed776edc"
      },
      "source": [
        "sns.set_style(\"whitegrid\")\n",
        "sns.relplot(\n",
        "    data = data.reset_index().query('Date > \"2019-12-31\"'),     # Data source = the data object\n",
        "    kind = \"line\",      # Graph type = line\n",
        "    x = \"Date\",         # x-axis = Date column (of course!)\n",
        "    y = \"N_Close\",      # y-axis = the normalised Close column\n",
        "    hue = \"Ticker\",     # One color for each asset\n",
        "    palette=[\"g\", \"r\"], # Green for the green asset!\n",
        "    aspect = 2\n",
        ")\n"
      ],
      "execution_count": 23,
      "outputs": [
        {
          "output_type": "execute_result",
          "data": {
            "text/plain": [
              "<seaborn.axisgrid.FacetGrid at 0x7fb530bf3050>"
            ]
          },
          "metadata": {},
          "execution_count": 23
        },
        {
          "output_type": "display_data",
          "data": {
            "image/png": "[encoded data removed]",
            "text/plain": [
              "<Figure size 789.475x360 with 1 Axes>"
            ]
          },
          "metadata": {}
        }
      ]
    },
    {
      "cell_type": "markdown",
      "metadata": {
        "id": "7LbtOJ632ip0"
      },
      "source": [
        "The S&P was higher above the green index before the Covid-19 crisis...  \n",
        "The \"**safe haven**\" property of green assets is still debated among academics & practitioners."
      ]
    }
  ]
}