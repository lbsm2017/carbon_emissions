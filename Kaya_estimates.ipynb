{
  "nbformat": 4,
  "nbformat_minor": 0,
  "metadata": {
    "colab": {
      "name": "Kaya_estimates.ipynb",
      "provenance": [],
      "collapsed_sections": [],
      "authorship_tag": "ABX9TyOVKM76b0GaWpcbeEwOt8V5",
      "include_colab_link": true
    },
    "kernelspec": {
      "name": "python3",
      "display_name": "Python 3"
    },
    "language_info": {
      "name": "python"
    }
  },
  "cells": [
    {
      "cell_type": "markdown",
      "metadata": {
        "id": "view-in-github",
        "colab_type": "text"
      },
      "source": [
        "<a href=\"https://colab.research.google.com/github/shokru/carbon_emissions/blob/main/Kaya_estimates.ipynb\" target=\"_parent\"><img src=\"https://colab.research.google.com/assets/colab-badge.svg\" alt=\"Open In Colab\"/></a>"
      ]
    },
    {
      "cell_type": "markdown",
      "metadata": {
        "id": "pzsVj0mP-6ow"
      },
      "source": [
        "# Estimating the Kaya identity\n",
        "\n",
        "This note book shows how to compare the elements of the Kaya identity across countries."
      ]
    },
    {
      "cell_type": "code",
      "metadata": {
        "id": "EVF8wtoC-39e"
      },
      "source": [
        "import pandas as pd                      # This library is for data wrangling\n",
        "import seaborn as sns                    # This is one library for plotting\n",
        "import matplotlib.pyplot as plt          # Yet another library for visualization\n",
        "import plotly.express as px              # This is another library for plots \n",
        "import requests\n",
        "import json\n",
        "from zipfile import ZipFile\n",
        "from io import BytesIO\n",
        "import warnings                          # This is to remove warning to keep output clean\n",
        "warnings.filterwarnings('ignore')\n",
        "pd.set_option('display.max_rows', 6)     # First 3 and last 3 rows will be shown"
      ],
      "execution_count": 2,
      "outputs": []
    },
    {
      "cell_type": "markdown",
      "metadata": {
        "id": "txJ0Pc7TIbTP"
      },
      "source": [
        "First, population."
      ]
    },
    {
      "cell_type": "code",
      "metadata": {
        "colab": {
          "base_uri": "https://localhost:8080/",
          "height": 295
        },
        "id": "u4oUA3ZCIvzR",
        "outputId": "b0e6c951-2552-4150-a3c3-b051cbe699d1"
      },
      "source": [
        "url = 'https://api.worldbank.org/v2/en/indicator/SP.POP.TOTL?downloadformat=excel'\n",
        "data_pop = pd.read_excel(url, skiprows = 3) \n",
        "data_pop\n",
        "data_pop = data_pop.loc[:,['Country Name', '2020']]\n",
        "data_pop = data_pop.rename(columns = {\"Country Name\": \"Country\", \"2020\": \"Population\"})\n",
        "data_pop"
      ],
      "execution_count": 3,
      "outputs": [
        {
          "output_type": "execute_result",
          "data": {
            "text/html": [
              "<div>\n",
              "<style scoped>\n",
              "    .dataframe tbody tr th:only-of-type {\n",
              "        vertical-align: middle;\n",
              "    }\n",
              "\n",
              "    .dataframe tbody tr th {\n",
              "        vertical-align: top;\n",
              "    }\n",
              "\n",
              "    .dataframe thead th {\n",
              "        text-align: right;\n",
              "    }\n",
              "</style>\n",
              "<table border=\"1\" class=\"dataframe\">\n",
              "  <thead>\n",
              "    <tr style=\"text-align: right;\">\n",
              "      <th></th>\n",
              "      <th>Country</th>\n",
              "      <th>Population</th>\n",
              "    </tr>\n",
              "  </thead>\n",
              "  <tbody>\n",
              "    <tr>\n",
              "      <th>0</th>\n",
              "      <td>Aruba</td>\n",
              "      <td>106766.0</td>\n",
              "    </tr>\n",
              "    <tr>\n",
              "      <th>1</th>\n",
              "      <td>Africa Eastern and Southern</td>\n",
              "      <td>677243299.0</td>\n",
              "    </tr>\n",
              "    <tr>\n",
              "      <th>2</th>\n",
              "      <td>Afghanistan</td>\n",
              "      <td>38928341.0</td>\n",
              "    </tr>\n",
              "    <tr>\n",
              "      <th>...</th>\n",
              "      <td>...</td>\n",
              "      <td>...</td>\n",
              "    </tr>\n",
              "    <tr>\n",
              "      <th>263</th>\n",
              "      <td>South Africa</td>\n",
              "      <td>59308690.0</td>\n",
              "    </tr>\n",
              "    <tr>\n",
              "      <th>264</th>\n",
              "      <td>Zambia</td>\n",
              "      <td>18383956.0</td>\n",
              "    </tr>\n",
              "    <tr>\n",
              "      <th>265</th>\n",
              "      <td>Zimbabwe</td>\n",
              "      <td>14862927.0</td>\n",
              "    </tr>\n",
              "  </tbody>\n",
              "</table>\n",
              "<p>266 rows × 2 columns</p>\n",
              "</div>"
            ],
            "text/plain": [
              "                         Country   Population\n",
              "0                          Aruba     106766.0\n",
              "1    Africa Eastern and Southern  677243299.0\n",
              "2                    Afghanistan   38928341.0\n",
              "..                           ...          ...\n",
              "263                 South Africa   59308690.0\n",
              "264                       Zambia   18383956.0\n",
              "265                     Zimbabwe   14862927.0\n",
              "\n",
              "[266 rows x 2 columns]"
            ]
          },
          "metadata": {},
          "execution_count": 3
        }
      ]
    },
    {
      "cell_type": "markdown",
      "metadata": {
        "id": "Aeoc2tv0K9AF"
      },
      "source": [
        "Second, GDP."
      ]
    },
    {
      "cell_type": "code",
      "metadata": {
        "colab": {
          "base_uri": "https://localhost:8080/",
          "height": 295
        },
        "id": "Pa2mS_B7LBzG",
        "outputId": "a5e283a1-e972-4bbe-8523-32a01ffe48cf"
      },
      "source": [
        "url = 'https://api.worldbank.org/v2/en/indicator/NY.GDP.MKTP.CD?downloadformat=excel'\n",
        "data_gdp = pd.read_excel(url, skiprows = 3) \n",
        "# Putting the data in long format below\n",
        "data_gdp = pd.wide_to_long(data_gdp.iloc[0:,0:65], \n",
        "                stubnames = [''], \n",
        "                i = ['Country Name', 'Country Code', 'Indicator Name', 'Indicator Code'],\n",
        "                j = 'Year').reset_index()\n",
        "data_gdp = data_gdp.rename(columns = {'Country Name': 'Country', '': 'GDP'})\n",
        "data_gdp = data_gdp.query('Year == 2020')\n",
        "data_gdp = data_gdp.loc[ : , ['Country', 'GDP']]\n",
        "data_gdp"
      ],
      "execution_count": 4,
      "outputs": [
        {
          "output_type": "execute_result",
          "data": {
            "text/html": [
              "<div>\n",
              "<style scoped>\n",
              "    .dataframe tbody tr th:only-of-type {\n",
              "        vertical-align: middle;\n",
              "    }\n",
              "\n",
              "    .dataframe tbody tr th {\n",
              "        vertical-align: top;\n",
              "    }\n",
              "\n",
              "    .dataframe thead th {\n",
              "        text-align: right;\n",
              "    }\n",
              "</style>\n",
              "<table border=\"1\" class=\"dataframe\">\n",
              "  <thead>\n",
              "    <tr style=\"text-align: right;\">\n",
              "      <th></th>\n",
              "      <th>Country</th>\n",
              "      <th>GDP</th>\n",
              "    </tr>\n",
              "  </thead>\n",
              "  <tbody>\n",
              "    <tr>\n",
              "      <th>60</th>\n",
              "      <td>Aruba</td>\n",
              "      <td>NaN</td>\n",
              "    </tr>\n",
              "    <tr>\n",
              "      <th>121</th>\n",
              "      <td>Africa Eastern and Southern</td>\n",
              "      <td>8.984741e+11</td>\n",
              "    </tr>\n",
              "    <tr>\n",
              "      <th>182</th>\n",
              "      <td>Afghanistan</td>\n",
              "      <td>1.980707e+10</td>\n",
              "    </tr>\n",
              "    <tr>\n",
              "      <th>...</th>\n",
              "      <td>...</td>\n",
              "      <td>...</td>\n",
              "    </tr>\n",
              "    <tr>\n",
              "      <th>16103</th>\n",
              "      <td>South Africa</td>\n",
              "      <td>3.019236e+11</td>\n",
              "    </tr>\n",
              "    <tr>\n",
              "      <th>16164</th>\n",
              "      <td>Zambia</td>\n",
              "      <td>1.932005e+10</td>\n",
              "    </tr>\n",
              "    <tr>\n",
              "      <th>16225</th>\n",
              "      <td>Zimbabwe</td>\n",
              "      <td>1.676851e+10</td>\n",
              "    </tr>\n",
              "  </tbody>\n",
              "</table>\n",
              "<p>266 rows × 2 columns</p>\n",
              "</div>"
            ],
            "text/plain": [
              "                           Country           GDP\n",
              "60                           Aruba           NaN\n",
              "121    Africa Eastern and Southern  8.984741e+11\n",
              "182                    Afghanistan  1.980707e+10\n",
              "...                            ...           ...\n",
              "16103                 South Africa  3.019236e+11\n",
              "16164                       Zambia  1.932005e+10\n",
              "16225                     Zimbabwe  1.676851e+10\n",
              "\n",
              "[266 rows x 2 columns]"
            ]
          },
          "metadata": {},
          "execution_count": 4
        }
      ]
    },
    {
      "cell_type": "markdown",
      "metadata": {
        "id": "7huiE7L6AwIW"
      },
      "source": [
        "Third , energy.\n",
        "\n"
      ]
    },
    {
      "cell_type": "code",
      "metadata": {
        "id": "ZWYyzcT8BFqZ"
      },
      "source": [
        "url = 'https://www.bp.com/content/dam/bp/business-sites/en/global/corporate/xlsx/energy-economics/statistical-review/bp-stats-review-2021-consolidated-dataset-narrow-format.xlsx'\n",
        "data_energy_sources = pd.read_excel(url) # Reads the online file \n",
        "data_energy_sources                      # Shows the result\n",
        "data_energy_sources = data_energy_sources[data_energy_sources['Var'].str.endswith('j')]\n",
        "data_energy_sources['Scale'] = data_energy_sources['Var'].transform(lambda x: 1000 if x.endswith('ej') else 1) # Scale column  \n",
        "data_energy_sources['Value'] = data_energy_sources['Value'] * data_energy_sources['Scale']                     # Adjusted value\n",
        "data_energy_sources = data_energy_sources.loc[:, ['Country', 'Year', 'Region', 'Var', 'Value']]                # Keeping 5 columns\n",
        "data_energy_sources['Var'] = data_energy_sources['Var'].map(lambda x: x.lstrip('+-').rstrip('_ej'))            # Remove suffix\n",
        "data_energy_sources['Var'] = data_energy_sources['Var'].map(lambda x: x.lstrip('+-').rstrip('_pj'))            # Remove suffix\n",
        "data_energy_sources = data_energy_sources.rename(columns = {'Value' : 'Energy'})                               # Change name of column"
      ],
      "execution_count": 5,
      "outputs": []
    },
    {
      "cell_type": "code",
      "metadata": {
        "colab": {
          "base_uri": "https://localhost:8080/",
          "height": 295
        },
        "id": "MpJLdjWHDnCb",
        "outputId": "4c081d2c-dc59-4832-81bb-78395ded757d"
      },
      "source": [
        "categories = ['wind',\n",
        "              'solar',\n",
        "              'renewables',\n",
        "              'ren_power',\n",
        "              'oilcons',\n",
        "              'nuclear',\n",
        "              'hydro',\n",
        "              'gascons',\n",
        "              'ethanol_cons',\n",
        "              'coalcons',\n",
        "              'biogeo',\n",
        "              'biofuels_cons',\n",
        "              'biodiesel_cons']\n",
        "data_energy_small = data_energy_sources[data_energy_sources['Var'].isin(categories + ['pop'])]                 # Reduce number of variables\n",
        "data_energy_small = data_energy_small.query('Year == 2020')\n",
        "data_energy = data_energy_small.pivot_table(index = 'Country',\n",
        "                              values = 'Energy',\n",
        "                              aggfunc = sum).reset_index()\n",
        "data_energy = data_energy.replace(\"US\", \"United States\")\n",
        "data_energy"
      ],
      "execution_count": 6,
      "outputs": [
        {
          "output_type": "execute_result",
          "data": {
            "text/html": [
              "<div>\n",
              "<style scoped>\n",
              "    .dataframe tbody tr th:only-of-type {\n",
              "        vertical-align: middle;\n",
              "    }\n",
              "\n",
              "    .dataframe tbody tr th {\n",
              "        vertical-align: top;\n",
              "    }\n",
              "\n",
              "    .dataframe thead th {\n",
              "        text-align: right;\n",
              "    }\n",
              "</style>\n",
              "<table border=\"1\" class=\"dataframe\">\n",
              "  <thead>\n",
              "    <tr style=\"text-align: right;\">\n",
              "      <th></th>\n",
              "      <th>Country</th>\n",
              "      <th>Energy</th>\n",
              "    </tr>\n",
              "  </thead>\n",
              "  <tbody>\n",
              "    <tr>\n",
              "      <th>0</th>\n",
              "      <td>Algeria</td>\n",
              "      <td>2309.387128</td>\n",
              "    </tr>\n",
              "    <tr>\n",
              "      <th>1</th>\n",
              "      <td>Argentina</td>\n",
              "      <td>3417.509121</td>\n",
              "    </tr>\n",
              "    <tr>\n",
              "      <th>2</th>\n",
              "      <td>Australia</td>\n",
              "      <td>6465.805665</td>\n",
              "    </tr>\n",
              "    <tr>\n",
              "      <th>...</th>\n",
              "      <td>...</td>\n",
              "      <td>...</td>\n",
              "    </tr>\n",
              "    <tr>\n",
              "      <th>91</th>\n",
              "      <td>Uzbekistan</td>\n",
              "      <td>1872.922562</td>\n",
              "    </tr>\n",
              "    <tr>\n",
              "      <th>92</th>\n",
              "      <td>Venezuela</td>\n",
              "      <td>1441.768405</td>\n",
              "    </tr>\n",
              "    <tr>\n",
              "      <th>93</th>\n",
              "      <td>Vietnam</td>\n",
              "      <td>4256.932955</td>\n",
              "    </tr>\n",
              "  </tbody>\n",
              "</table>\n",
              "<p>94 rows × 2 columns</p>\n",
              "</div>"
            ],
            "text/plain": [
              "       Country       Energy\n",
              "0      Algeria  2309.387128\n",
              "1    Argentina  3417.509121\n",
              "2    Australia  6465.805665\n",
              "..         ...          ...\n",
              "91  Uzbekistan  1872.922562\n",
              "92   Venezuela  1441.768405\n",
              "93     Vietnam  4256.932955\n",
              "\n",
              "[94 rows x 2 columns]"
            ]
          },
          "metadata": {},
          "execution_count": 6
        }
      ]
    },
    {
      "cell_type": "markdown",
      "metadata": {
        "id": "qTJTzkSQAz0U"
      },
      "source": [
        "Finally, emissions, in MtCO2."
      ]
    },
    {
      "cell_type": "code",
      "metadata": {
        "colab": {
          "base_uri": "https://localhost:8080/",
          "height": 295
        },
        "id": "Mj0uTV6HAx6g",
        "outputId": "6d8f18c9-e84b-4812-db79-5f3c0fcddbf4"
      },
      "source": [
        "url = 'https://wri-public-data.s3.amazonaws.com/resourcewatch/cli_008_greenhouse_gas_emissions_country_sector.zip'\n",
        "filename = requests.get(url).content\n",
        "zf = ZipFile( BytesIO(filename), 'r')\n",
        "zf.getinfo('historical_emissions.zip')\n",
        "zf = ZipFile(zf.open('historical_emissions.zip'))\n",
        "\n",
        "data_ghg = pd.read_csv(zf.open('historical_emissions.csv'))\n",
        "data_ghg = data_ghg.loc[:,['Country', 'Sector', '2018']].pivot_table(index = 'Country',\n",
        "                                                          values = '2018',\n",
        "                                                          aggfunc = sum).reset_index()\n",
        "data_ghg = data_ghg.rename(columns = {'2018': 'Emissions'})\n",
        "data_ghg"
      ],
      "execution_count": 7,
      "outputs": [
        {
          "output_type": "execute_result",
          "data": {
            "text/html": [
              "<div>\n",
              "<style scoped>\n",
              "    .dataframe tbody tr th:only-of-type {\n",
              "        vertical-align: middle;\n",
              "    }\n",
              "\n",
              "    .dataframe tbody tr th {\n",
              "        vertical-align: top;\n",
              "    }\n",
              "\n",
              "    .dataframe thead th {\n",
              "        text-align: right;\n",
              "    }\n",
              "</style>\n",
              "<table border=\"1\" class=\"dataframe\">\n",
              "  <thead>\n",
              "    <tr style=\"text-align: right;\">\n",
              "      <th></th>\n",
              "      <th>Country</th>\n",
              "      <th>Emissions</th>\n",
              "    </tr>\n",
              "  </thead>\n",
              "  <tbody>\n",
              "    <tr>\n",
              "      <th>0</th>\n",
              "      <td>Afghanistan</td>\n",
              "      <td>376.67</td>\n",
              "    </tr>\n",
              "    <tr>\n",
              "      <th>1</th>\n",
              "      <td>Albania</td>\n",
              "      <td>34.49</td>\n",
              "    </tr>\n",
              "    <tr>\n",
              "      <th>2</th>\n",
              "      <td>Algeria</td>\n",
              "      <td>833.95</td>\n",
              "    </tr>\n",
              "    <tr>\n",
              "      <th>...</th>\n",
              "      <td>...</td>\n",
              "      <td>...</td>\n",
              "    </tr>\n",
              "    <tr>\n",
              "      <th>192</th>\n",
              "      <td>Yemen</td>\n",
              "      <td>75.03</td>\n",
              "    </tr>\n",
              "    <tr>\n",
              "      <th>193</th>\n",
              "      <td>Zambia</td>\n",
              "      <td>238.24</td>\n",
              "    </tr>\n",
              "    <tr>\n",
              "      <th>194</th>\n",
              "      <td>Zimbabwe</td>\n",
              "      <td>284.92</td>\n",
              "    </tr>\n",
              "  </tbody>\n",
              "</table>\n",
              "<p>195 rows × 2 columns</p>\n",
              "</div>"
            ],
            "text/plain": [
              "         Country  Emissions\n",
              "0    Afghanistan     376.67\n",
              "1        Albania      34.49\n",
              "2        Algeria     833.95\n",
              "..           ...        ...\n",
              "192        Yemen      75.03\n",
              "193       Zambia     238.24\n",
              "194     Zimbabwe     284.92\n",
              "\n",
              "[195 rows x 2 columns]"
            ]
          },
          "metadata": {},
          "execution_count": 7
        }
      ]
    },
    {
      "cell_type": "markdown",
      "metadata": {
        "id": "AsJ6zecEMD0q"
      },
      "source": [
        "Now, let's aggregate everything!"
      ]
    },
    {
      "cell_type": "code",
      "metadata": {
        "colab": {
          "base_uri": "https://localhost:8080/"
        },
        "id": "koy83UFsMDck",
        "outputId": "76f6e95a-22d5-4435-d0bc-4c5debb71ad1"
      },
      "source": [
        "data = pd.merge(pd.merge(pd.merge(data_ghg, data_pop), data_gdp), data_energy)\n",
        "data['Country'].unique()"
      ],
      "execution_count": 28,
      "outputs": [
        {
          "output_type": "execute_result",
          "data": {
            "text/plain": [
              "array(['Algeria', 'Argentina', 'Australia', 'Austria', 'Azerbaijan',\n",
              "       'Bangladesh', 'Belarus', 'Belgium', 'Brazil', 'Bulgaria', 'Canada',\n",
              "       'Chile', 'China', 'Colombia', 'Croatia', 'Cyprus',\n",
              "       'Czech Republic', 'Denmark', 'Ecuador', 'Estonia', 'Finland',\n",
              "       'France', 'Germany', 'Greece', 'Hungary', 'Iceland', 'India',\n",
              "       'Indonesia', 'Iraq', 'Ireland', 'Israel', 'Italy', 'Japan',\n",
              "       'Kazakhstan', 'Kuwait', 'Latvia', 'Lithuania', 'Luxembourg',\n",
              "       'Malaysia', 'Mexico', 'Morocco', 'Netherlands', 'New Zealand',\n",
              "       'Norway', 'Oman', 'Pakistan', 'Peru', 'Philippines', 'Poland',\n",
              "       'Portugal', 'Qatar', 'Romania', 'Saudi Arabia', 'Singapore',\n",
              "       'Slovenia', 'South Africa', 'Spain', 'Sri Lanka', 'Sweden',\n",
              "       'Switzerland', 'Thailand', 'Turkey', 'Turkmenistan', 'Ukraine',\n",
              "       'United Arab Emirates', 'United Kingdom', 'United States',\n",
              "       'Uzbekistan', 'Vietnam'], dtype=object)"
            ]
          },
          "metadata": {},
          "execution_count": 28
        }
      ]
    },
    {
      "cell_type": "markdown",
      "metadata": {
        "id": "p51hhvZRN7VI"
      },
      "source": [
        "Now let's see the differences. We know roughly the orders of magnitudes of populations so we focus on the other terms."
      ]
    },
    {
      "cell_type": "code",
      "metadata": {
        "colab": {
          "base_uri": "https://localhost:8080/",
          "height": 295
        },
        "id": "Aj9dNha8OGrL",
        "outputId": "2b7669b0-09e8-442c-b6be-53b350f80291"
      },
      "source": [
        "country_list = ['United States', 'France', 'China', 'Germany', 'Canada', 'Bangladesh', 'Quatar', 'Morocco', 'Argentina', 'Israel']\n",
        "data_plot = data[data['Country'].isin(country_list)]\n",
        "data_plot['gdp_pop'] = data_plot['GDP'] / data_plot['Population']\n",
        "data_plot['energy_gdp'] = data_plot['Energy'] / data_plot['GDP']\n",
        "data_plot['emission_energy'] = data_plot['Emissions'] / data_plot['Energy']\n",
        "data_plot = data_plot.loc[:, ['Country', 'gdp_pop', 'energy_gdp', 'emission_energy']]\n",
        "data_plot = pd.melt(data_plot, id_vars = 'Country', value_vars = ['gdp_pop', 'energy_gdp', 'emission_energy']).reset_index()\n",
        "data_plot\n",
        "\n"
      ],
      "execution_count": 29,
      "outputs": [
        {
          "output_type": "execute_result",
          "data": {
            "text/html": [
              "<div>\n",
              "<style scoped>\n",
              "    .dataframe tbody tr th:only-of-type {\n",
              "        vertical-align: middle;\n",
              "    }\n",
              "\n",
              "    .dataframe tbody tr th {\n",
              "        vertical-align: top;\n",
              "    }\n",
              "\n",
              "    .dataframe thead th {\n",
              "        text-align: right;\n",
              "    }\n",
              "</style>\n",
              "<table border=\"1\" class=\"dataframe\">\n",
              "  <thead>\n",
              "    <tr style=\"text-align: right;\">\n",
              "      <th></th>\n",
              "      <th>index</th>\n",
              "      <th>Country</th>\n",
              "      <th>variable</th>\n",
              "      <th>value</th>\n",
              "    </tr>\n",
              "  </thead>\n",
              "  <tbody>\n",
              "    <tr>\n",
              "      <th>0</th>\n",
              "      <td>0</td>\n",
              "      <td>Argentina</td>\n",
              "      <td>gdp_pop</td>\n",
              "      <td>8441.919439</td>\n",
              "    </tr>\n",
              "    <tr>\n",
              "      <th>1</th>\n",
              "      <td>1</td>\n",
              "      <td>Bangladesh</td>\n",
              "      <td>gdp_pop</td>\n",
              "      <td>1968.792225</td>\n",
              "    </tr>\n",
              "    <tr>\n",
              "      <th>2</th>\n",
              "      <td>2</td>\n",
              "      <td>Canada</td>\n",
              "      <td>gdp_pop</td>\n",
              "      <td>43241.617828</td>\n",
              "    </tr>\n",
              "    <tr>\n",
              "      <th>...</th>\n",
              "      <td>...</td>\n",
              "      <td>...</td>\n",
              "      <td>...</td>\n",
              "      <td>...</td>\n",
              "    </tr>\n",
              "    <tr>\n",
              "      <th>24</th>\n",
              "      <td>24</td>\n",
              "      <td>Israel</td>\n",
              "      <td>emission_energy</td>\n",
              "      <td>0.288408</td>\n",
              "    </tr>\n",
              "    <tr>\n",
              "      <th>25</th>\n",
              "      <td>25</td>\n",
              "      <td>Morocco</td>\n",
              "      <td>emission_energy</td>\n",
              "      <td>0.346983</td>\n",
              "    </tr>\n",
              "    <tr>\n",
              "      <th>26</th>\n",
              "      <td>26</td>\n",
              "      <td>United States</td>\n",
              "      <td>emission_energy</td>\n",
              "      <td>0.227230</td>\n",
              "    </tr>\n",
              "  </tbody>\n",
              "</table>\n",
              "<p>27 rows × 4 columns</p>\n",
              "</div>"
            ],
            "text/plain": [
              "    index        Country         variable         value\n",
              "0       0      Argentina          gdp_pop   8441.919439\n",
              "1       1     Bangladesh          gdp_pop   1968.792225\n",
              "2       2         Canada          gdp_pop  43241.617828\n",
              "..    ...            ...              ...           ...\n",
              "24     24         Israel  emission_energy      0.288408\n",
              "25     25        Morocco  emission_energy      0.346983\n",
              "26     26  United States  emission_energy      0.227230\n",
              "\n",
              "[27 rows x 4 columns]"
            ]
          },
          "metadata": {},
          "execution_count": 29
        }
      ]
    },
    {
      "cell_type": "code",
      "metadata": {
        "colab": {
          "base_uri": "https://localhost:8080/",
          "height": 674
        },
        "id": "qfnBY1SnPmCp",
        "outputId": "8ba10baa-1cb8-4676-d44a-e44d68c0db4d"
      },
      "source": [
        "g = sns.FacetGrid(data_plot, row = \"variable\", sharey = False, aspect = 6)\n",
        "g.map_dataframe(sns.barplot, x = \"Country\", y = \"value\")"
      ],
      "execution_count": 30,
      "outputs": [
        {
          "output_type": "execute_result",
          "data": {
            "text/plain": [
              "<seaborn.axisgrid.FacetGrid at 0x7f555254db90>"
            ]
          },
          "metadata": {},
          "execution_count": 30
        },
        {
          "output_type": "display_data",
          "data": {
            "image/png": "[encoded data removed]",
            "text/plain": [
              "<Figure size 1296x648 with 3 Axes>"
            ]
          },
          "metadata": {
            "needs_background": "light"
          }
        }
      ]
    },
    {
      "cell_type": "markdown",
      "metadata": {
        "id": "hVCfCHRg0UtB"
      },
      "source": [
        "Let's improve that a bit."
      ]
    },
    {
      "cell_type": "code",
      "metadata": {
        "colab": {
          "base_uri": "https://localhost:8080/",
          "height": 735
        },
        "id": "P6p2-CHo0Wo3",
        "outputId": "b9b8242d-4ca9-453c-e9e8-59afbef88adf"
      },
      "source": [
        "fig, axes = plt.subplots(3, 1, figsize=(15, 12))\n",
        "# make barplot and sort bars\n",
        "sns.barplot(ax=axes[0],\n",
        "            x = 'Country',\n",
        "            y = \"value\", \n",
        "            hue = 'Country',\n",
        "            dodge = False,\n",
        "            data = data_plot.query('variable == \"gdp_pop\"'), \n",
        "            order = data_plot.query('variable == \"gdp_pop\"').sort_values('value').Country)\n",
        "axes[0].set_title(\"Lifestyle proxy: GDP per capita\", size = 15)\n",
        "axes[0].axes.xaxis.label.set_visible(False)\n",
        "axes[0].legend(loc = 'upper left')\n",
        "sns.barplot(ax=axes[1],\n",
        "            x = 'Country',\n",
        "            y = \"value\", \n",
        "            hue = 'Country',\n",
        "            dodge = False,\n",
        "            data = data_plot.query('variable == \"energy_gdp\"'), \n",
        "            order = data_plot.query('variable == \"energy_gdp\"').sort_values('value').Country)\n",
        "axes[1].set_title(\"Energy intensity: Energy / GDP\", size = 15)\n",
        "axes[1].axes.xaxis.label.set_visible(False)\n",
        "axes[1].legend([],[], frameon=False)\n",
        "sns.barplot(ax=axes[2],\n",
        "            x = 'Country',\n",
        "            y = \"value\", \n",
        "            hue = 'Country',\n",
        "            dodge = False,\n",
        "            data = data_plot.query('variable == \"emission_energy\"'), \n",
        "            order = data_plot.query('variable == \"emission_energy\"').sort_values('value').Country)\n",
        "axes[2].set_title(\"Emission intensity: Emissions / energy\", size = 15)\n",
        "axes[2].axes.xaxis.label.set_visible(False)\n",
        "axes[2].legend([],[], frameon=False)"
      ],
      "execution_count": 65,
      "outputs": [
        {
          "output_type": "execute_result",
          "data": {
            "text/plain": [
              "<matplotlib.legend.Legend at 0x7f55563c72d0>"
            ]
          },
          "metadata": {},
          "execution_count": 65
        },
        {
          "output_type": "display_data",
          "data": {
            "image/png": "[encoded data removed]",
            "text/plain": [
              "<Figure size 1080x864 with 3 Axes>"
            ]
          },
          "metadata": {
            "needs_background": "light"
          }
        }
      ]
    }
  ]
}