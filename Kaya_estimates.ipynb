{
  "nbformat": 4,
  "nbformat_minor": 0,
  "metadata": {
    "colab": {
      "name": "Kaya_estimates.ipynb",
      "provenance": [],
      "collapsed_sections": [],
      "authorship_tag": "ABX9TyP6pgR0zT5yD0eWIB+/gC8p",
      "include_colab_link": true
    },
    "kernelspec": {
      "name": "python3",
      "display_name": "Python 3"
    },
    "language_info": {
      "name": "python"
    }
  },
  "cells": [
    {
      "cell_type": "markdown",
      "metadata": {
        "id": "view-in-github",
        "colab_type": "text"
      },
      "source": [
        "<a href=\"https://colab.research.google.com/github/shokru/carbon_emissions/blob/main/Kaya_estimates.ipynb\" target=\"_parent\"><img src=\"https://colab.research.google.com/assets/colab-badge.svg\" alt=\"Open In Colab\"/></a>"
      ]
    },
    {
      "cell_type": "markdown",
      "metadata": {
        "id": "pzsVj0mP-6ow"
      },
      "source": [
        "# Estimating the Kaya identity\n",
        "\n",
        "This note book shows how to compare the elements of the Kaya identity across countries."
      ]
    },
    {
      "cell_type": "code",
      "metadata": {
        "id": "EVF8wtoC-39e"
      },
      "source": [
        "import pandas as pd                      # This library is for data wrangling\n",
        "import seaborn as sns                    # This is one library for plotting\n",
        "import matplotlib.pyplot as plt          # Yet another library for visualization\n",
        "import plotly.express as px              # This is another library for plots \n",
        "import requests\n",
        "import json\n",
        "from zipfile import ZipFile\n",
        "from io import BytesIO\n",
        "import warnings                          # This is to remove warning to keep output clean\n",
        "warnings.filterwarnings('ignore')\n",
        "pd.set_option('display.max_rows', 6)     # First 3 and last 3 rows will be shown"
      ],
      "execution_count": 77,
      "outputs": []
    },
    {
      "cell_type": "markdown",
      "metadata": {
        "id": "txJ0Pc7TIbTP"
      },
      "source": [
        "First, population."
      ]
    },
    {
      "cell_type": "code",
      "metadata": {
        "colab": {
          "base_uri": "https://localhost:8080/",
          "height": 295
        },
        "id": "u4oUA3ZCIvzR",
        "outputId": "f499cf03-537d-4a2f-e27f-d6f6e9a59e04"
      },
      "source": [
        "url = 'https://api.worldbank.org/v2/en/indicator/SP.POP.TOTL?downloadformat=excel'\n",
        "data_pop = pd.read_excel(url, skiprows = 3) \n",
        "data_pop\n",
        "data_pop = data_pop.loc[:,['Country Name', '2020']]\n",
        "data_pop = data_pop.rename(columns = {\"Country Name\": \"Country\", \"2020\": \"Population\"})\n",
        "data_pop"
      ],
      "execution_count": 78,
      "outputs": [
        {
          "output_type": "execute_result",
          "data": {
            "text/html": [
              "<div>\n",
              "<style scoped>\n",
              "    .dataframe tbody tr th:only-of-type {\n",
              "        vertical-align: middle;\n",
              "    }\n",
              "\n",
              "    .dataframe tbody tr th {\n",
              "        vertical-align: top;\n",
              "    }\n",
              "\n",
              "    .dataframe thead th {\n",
              "        text-align: right;\n",
              "    }\n",
              "</style>\n",
              "<table border=\"1\" class=\"dataframe\">\n",
              "  <thead>\n",
              "    <tr style=\"text-align: right;\">\n",
              "      <th></th>\n",
              "      <th>Country</th>\n",
              "      <th>Population</th>\n",
              "    </tr>\n",
              "  </thead>\n",
              "  <tbody>\n",
              "    <tr>\n",
              "      <th>0</th>\n",
              "      <td>Aruba</td>\n",
              "      <td>106766.0</td>\n",
              "    </tr>\n",
              "    <tr>\n",
              "      <th>1</th>\n",
              "      <td>Africa Eastern and Southern</td>\n",
              "      <td>677243299.0</td>\n",
              "    </tr>\n",
              "    <tr>\n",
              "      <th>2</th>\n",
              "      <td>Afghanistan</td>\n",
              "      <td>38928341.0</td>\n",
              "    </tr>\n",
              "    <tr>\n",
              "      <th>...</th>\n",
              "      <td>...</td>\n",
              "      <td>...</td>\n",
              "    </tr>\n",
              "    <tr>\n",
              "      <th>263</th>\n",
              "      <td>South Africa</td>\n",
              "      <td>59308690.0</td>\n",
              "    </tr>\n",
              "    <tr>\n",
              "      <th>264</th>\n",
              "      <td>Zambia</td>\n",
              "      <td>18383956.0</td>\n",
              "    </tr>\n",
              "    <tr>\n",
              "      <th>265</th>\n",
              "      <td>Zimbabwe</td>\n",
              "      <td>14862927.0</td>\n",
              "    </tr>\n",
              "  </tbody>\n",
              "</table>\n",
              "<p>266 rows × 2 columns</p>\n",
              "</div>"
            ],
            "text/plain": [
              "                         Country   Population\n",
              "0                          Aruba     106766.0\n",
              "1    Africa Eastern and Southern  677243299.0\n",
              "2                    Afghanistan   38928341.0\n",
              "..                           ...          ...\n",
              "263                 South Africa   59308690.0\n",
              "264                       Zambia   18383956.0\n",
              "265                     Zimbabwe   14862927.0\n",
              "\n",
              "[266 rows x 2 columns]"
            ]
          },
          "metadata": {},
          "execution_count": 78
        }
      ]
    },
    {
      "cell_type": "markdown",
      "metadata": {
        "id": "Aeoc2tv0K9AF"
      },
      "source": [
        "Second, GDP."
      ]
    },
    {
      "cell_type": "code",
      "metadata": {
        "colab": {
          "base_uri": "https://localhost:8080/",
          "height": 295
        },
        "id": "Pa2mS_B7LBzG",
        "outputId": "003ab36c-7279-48d8-bc4a-2d5e6f5b22fc"
      },
      "source": [
        "url = 'https://api.worldbank.org/v2/en/indicator/NY.GDP.MKTP.CD?downloadformat=excel'\n",
        "data_gdp = pd.read_excel(url, skiprows = 3) \n",
        "# Putting the data in long format below\n",
        "data_gdp = pd.wide_to_long(data_gdp.iloc[0:,0:65], \n",
        "                stubnames = [''], \n",
        "                i = ['Country Name', 'Country Code', 'Indicator Name', 'Indicator Code'],\n",
        "                j = 'Year').reset_index()\n",
        "data_gdp = data_gdp.rename(columns = {'Country Name': 'Country', '': 'GDP'})\n",
        "data_gdp = data_gdp.query('Year == 2020')\n",
        "data_gdp = data_gdp.loc[ : , ['Country', 'GDP']]\n",
        "data_gdp"
      ],
      "execution_count": 79,
      "outputs": [
        {
          "output_type": "execute_result",
          "data": {
            "text/html": [
              "<div>\n",
              "<style scoped>\n",
              "    .dataframe tbody tr th:only-of-type {\n",
              "        vertical-align: middle;\n",
              "    }\n",
              "\n",
              "    .dataframe tbody tr th {\n",
              "        vertical-align: top;\n",
              "    }\n",
              "\n",
              "    .dataframe thead th {\n",
              "        text-align: right;\n",
              "    }\n",
              "</style>\n",
              "<table border=\"1\" class=\"dataframe\">\n",
              "  <thead>\n",
              "    <tr style=\"text-align: right;\">\n",
              "      <th></th>\n",
              "      <th>Country</th>\n",
              "      <th>GDP</th>\n",
              "    </tr>\n",
              "  </thead>\n",
              "  <tbody>\n",
              "    <tr>\n",
              "      <th>60</th>\n",
              "      <td>Aruba</td>\n",
              "      <td>NaN</td>\n",
              "    </tr>\n",
              "    <tr>\n",
              "      <th>121</th>\n",
              "      <td>Africa Eastern and Southern</td>\n",
              "      <td>8.984741e+11</td>\n",
              "    </tr>\n",
              "    <tr>\n",
              "      <th>182</th>\n",
              "      <td>Afghanistan</td>\n",
              "      <td>1.980707e+10</td>\n",
              "    </tr>\n",
              "    <tr>\n",
              "      <th>...</th>\n",
              "      <td>...</td>\n",
              "      <td>...</td>\n",
              "    </tr>\n",
              "    <tr>\n",
              "      <th>16103</th>\n",
              "      <td>South Africa</td>\n",
              "      <td>3.019236e+11</td>\n",
              "    </tr>\n",
              "    <tr>\n",
              "      <th>16164</th>\n",
              "      <td>Zambia</td>\n",
              "      <td>1.932005e+10</td>\n",
              "    </tr>\n",
              "    <tr>\n",
              "      <th>16225</th>\n",
              "      <td>Zimbabwe</td>\n",
              "      <td>1.676851e+10</td>\n",
              "    </tr>\n",
              "  </tbody>\n",
              "</table>\n",
              "<p>266 rows × 2 columns</p>\n",
              "</div>"
            ],
            "text/plain": [
              "                           Country           GDP\n",
              "60                           Aruba           NaN\n",
              "121    Africa Eastern and Southern  8.984741e+11\n",
              "182                    Afghanistan  1.980707e+10\n",
              "...                            ...           ...\n",
              "16103                 South Africa  3.019236e+11\n",
              "16164                       Zambia  1.932005e+10\n",
              "16225                     Zimbabwe  1.676851e+10\n",
              "\n",
              "[266 rows x 2 columns]"
            ]
          },
          "metadata": {},
          "execution_count": 79
        }
      ]
    },
    {
      "cell_type": "markdown",
      "metadata": {
        "id": "7huiE7L6AwIW"
      },
      "source": [
        "Third , energy.\n",
        "\n"
      ]
    },
    {
      "cell_type": "code",
      "metadata": {
        "id": "ZWYyzcT8BFqZ"
      },
      "source": [
        "url = 'https://www.bp.com/content/dam/bp/business-sites/en/global/corporate/xlsx/energy-economics/statistical-review/bp-stats-review-2021-consolidated-dataset-narrow-format.xlsx'\n",
        "data_energy_sources = pd.read_excel(url) # Reads the online file \n",
        "data_energy_sources                      # Shows the result\n",
        "data_energy_sources = data_energy_sources[data_energy_sources['Var'].str.endswith('j')]\n",
        "data_energy_sources['Scale'] = data_energy_sources['Var'].transform(lambda x: 1000 if x.endswith('ej') else 1) # Scale column  \n",
        "data_energy_sources['Value'] = data_energy_sources['Value'] * data_energy_sources['Scale']                     # Adjusted value\n",
        "data_energy_sources = data_energy_sources.loc[:, ['Country', 'Year', 'Region', 'Var', 'Value']]                # Keeping 5 columns\n",
        "data_energy_sources['Var'] = data_energy_sources['Var'].map(lambda x: x.lstrip('+-').rstrip('_ej'))            # Remove suffix\n",
        "data_energy_sources['Var'] = data_energy_sources['Var'].map(lambda x: x.lstrip('+-').rstrip('_pj'))            # Remove suffix\n",
        "data_energy_sources = data_energy_sources.rename(columns = {'Value' : 'Energy'})                               # Change name of column"
      ],
      "execution_count": 80,
      "outputs": []
    },
    {
      "cell_type": "code",
      "metadata": {
        "colab": {
          "base_uri": "https://localhost:8080/",
          "height": 295
        },
        "id": "MpJLdjWHDnCb",
        "outputId": "49a3ff56-970f-4235-9c4e-03ce91b1dd40"
      },
      "source": [
        "categories = ['wind',\n",
        "              'solar',\n",
        "              'renewables',\n",
        "              'ren_power',\n",
        "              'oilcons',\n",
        "              'nuclear',\n",
        "              'hydro',\n",
        "              'gascons',\n",
        "              'ethanol_cons',\n",
        "              'coalcons',\n",
        "              'biogeo',\n",
        "              'biofuels_cons',\n",
        "              'biodiesel_cons']\n",
        "data_energy_small = data_energy_sources[data_energy_sources['Var'].isin(categories + ['pop'])]                 # Reduce number of variables\n",
        "data_energy_small = data_energy_small.query('Year == 2020')\n",
        "data_energy = data_energy_small.pivot_table(index = 'Country',\n",
        "                              values = 'Energy',\n",
        "                              aggfunc = sum).reset_index()\n",
        "data_energy = data_energy.replace(\"US\", \"United States\")\n",
        "data_energy"
      ],
      "execution_count": 81,
      "outputs": [
        {
          "output_type": "execute_result",
          "data": {
            "text/html": [
              "<div>\n",
              "<style scoped>\n",
              "    .dataframe tbody tr th:only-of-type {\n",
              "        vertical-align: middle;\n",
              "    }\n",
              "\n",
              "    .dataframe tbody tr th {\n",
              "        vertical-align: top;\n",
              "    }\n",
              "\n",
              "    .dataframe thead th {\n",
              "        text-align: right;\n",
              "    }\n",
              "</style>\n",
              "<table border=\"1\" class=\"dataframe\">\n",
              "  <thead>\n",
              "    <tr style=\"text-align: right;\">\n",
              "      <th></th>\n",
              "      <th>Country</th>\n",
              "      <th>Energy</th>\n",
              "    </tr>\n",
              "  </thead>\n",
              "  <tbody>\n",
              "    <tr>\n",
              "      <th>0</th>\n",
              "      <td>Algeria</td>\n",
              "      <td>2309.387128</td>\n",
              "    </tr>\n",
              "    <tr>\n",
              "      <th>1</th>\n",
              "      <td>Argentina</td>\n",
              "      <td>3417.509121</td>\n",
              "    </tr>\n",
              "    <tr>\n",
              "      <th>2</th>\n",
              "      <td>Australia</td>\n",
              "      <td>6465.805665</td>\n",
              "    </tr>\n",
              "    <tr>\n",
              "      <th>...</th>\n",
              "      <td>...</td>\n",
              "      <td>...</td>\n",
              "    </tr>\n",
              "    <tr>\n",
              "      <th>91</th>\n",
              "      <td>Uzbekistan</td>\n",
              "      <td>1872.922562</td>\n",
              "    </tr>\n",
              "    <tr>\n",
              "      <th>92</th>\n",
              "      <td>Venezuela</td>\n",
              "      <td>1441.768405</td>\n",
              "    </tr>\n",
              "    <tr>\n",
              "      <th>93</th>\n",
              "      <td>Vietnam</td>\n",
              "      <td>4256.932955</td>\n",
              "    </tr>\n",
              "  </tbody>\n",
              "</table>\n",
              "<p>94 rows × 2 columns</p>\n",
              "</div>"
            ],
            "text/plain": [
              "       Country       Energy\n",
              "0      Algeria  2309.387128\n",
              "1    Argentina  3417.509121\n",
              "2    Australia  6465.805665\n",
              "..         ...          ...\n",
              "91  Uzbekistan  1872.922562\n",
              "92   Venezuela  1441.768405\n",
              "93     Vietnam  4256.932955\n",
              "\n",
              "[94 rows x 2 columns]"
            ]
          },
          "metadata": {},
          "execution_count": 81
        }
      ]
    },
    {
      "cell_type": "markdown",
      "metadata": {
        "id": "qTJTzkSQAz0U"
      },
      "source": [
        "Finally, emissions, in MtCO2."
      ]
    },
    {
      "cell_type": "code",
      "metadata": {
        "colab": {
          "base_uri": "https://localhost:8080/",
          "height": 295
        },
        "id": "Mj0uTV6HAx6g",
        "outputId": "5d491eba-f7eb-4e57-850f-5c7104f1de63"
      },
      "source": [
        "url = 'https://wri-public-data.s3.amazonaws.com/resourcewatch/cli_008_greenhouse_gas_emissions_country_sector.zip'\n",
        "filename = requests.get(url).content\n",
        "zf = ZipFile( BytesIO(filename), 'r')\n",
        "zf.getinfo('historical_emissions.zip')\n",
        "zf = ZipFile(zf.open('historical_emissions.zip'))\n",
        "\n",
        "data_ghg = pd.read_csv(zf.open('historical_emissions.csv'))\n",
        "data_ghg = data_ghg.loc[:,['Country', 'Sector', '2018']].pivot_table(index = 'Country',\n",
        "                                                          values = '2018',\n",
        "                                                          aggfunc = sum).reset_index()\n",
        "data_ghg = data_ghg.rename(columns = {'2018': 'Emissions'})\n",
        "data_ghg"
      ],
      "execution_count": 82,
      "outputs": [
        {
          "output_type": "execute_result",
          "data": {
            "text/html": [
              "<div>\n",
              "<style scoped>\n",
              "    .dataframe tbody tr th:only-of-type {\n",
              "        vertical-align: middle;\n",
              "    }\n",
              "\n",
              "    .dataframe tbody tr th {\n",
              "        vertical-align: top;\n",
              "    }\n",
              "\n",
              "    .dataframe thead th {\n",
              "        text-align: right;\n",
              "    }\n",
              "</style>\n",
              "<table border=\"1\" class=\"dataframe\">\n",
              "  <thead>\n",
              "    <tr style=\"text-align: right;\">\n",
              "      <th></th>\n",
              "      <th>Country</th>\n",
              "      <th>Emissions</th>\n",
              "    </tr>\n",
              "  </thead>\n",
              "  <tbody>\n",
              "    <tr>\n",
              "      <th>0</th>\n",
              "      <td>Afghanistan</td>\n",
              "      <td>376.67</td>\n",
              "    </tr>\n",
              "    <tr>\n",
              "      <th>1</th>\n",
              "      <td>Albania</td>\n",
              "      <td>34.49</td>\n",
              "    </tr>\n",
              "    <tr>\n",
              "      <th>2</th>\n",
              "      <td>Algeria</td>\n",
              "      <td>833.95</td>\n",
              "    </tr>\n",
              "    <tr>\n",
              "      <th>...</th>\n",
              "      <td>...</td>\n",
              "      <td>...</td>\n",
              "    </tr>\n",
              "    <tr>\n",
              "      <th>192</th>\n",
              "      <td>Yemen</td>\n",
              "      <td>75.03</td>\n",
              "    </tr>\n",
              "    <tr>\n",
              "      <th>193</th>\n",
              "      <td>Zambia</td>\n",
              "      <td>238.24</td>\n",
              "    </tr>\n",
              "    <tr>\n",
              "      <th>194</th>\n",
              "      <td>Zimbabwe</td>\n",
              "      <td>284.92</td>\n",
              "    </tr>\n",
              "  </tbody>\n",
              "</table>\n",
              "<p>195 rows × 2 columns</p>\n",
              "</div>"
            ],
            "text/plain": [
              "         Country  Emissions\n",
              "0    Afghanistan     376.67\n",
              "1        Albania      34.49\n",
              "2        Algeria     833.95\n",
              "..           ...        ...\n",
              "192        Yemen      75.03\n",
              "193       Zambia     238.24\n",
              "194     Zimbabwe     284.92\n",
              "\n",
              "[195 rows x 2 columns]"
            ]
          },
          "metadata": {},
          "execution_count": 82
        }
      ]
    },
    {
      "cell_type": "markdown",
      "metadata": {
        "id": "AsJ6zecEMD0q"
      },
      "source": [
        "Now, let's aggregate everything!"
      ]
    },
    {
      "cell_type": "code",
      "metadata": {
        "colab": {
          "base_uri": "https://localhost:8080/",
          "height": 295
        },
        "id": "koy83UFsMDck",
        "outputId": "e4f949a5-fd9b-4d55-a4d0-68575ecb3967"
      },
      "source": [
        "data = pd.merge(pd.merge(pd.merge(data_ghg, data_pop), data_gdp), data_energy)\n",
        "data"
      ],
      "execution_count": 83,
      "outputs": [
        {
          "output_type": "execute_result",
          "data": {
            "text/html": [
              "<div>\n",
              "<style scoped>\n",
              "    .dataframe tbody tr th:only-of-type {\n",
              "        vertical-align: middle;\n",
              "    }\n",
              "\n",
              "    .dataframe tbody tr th {\n",
              "        vertical-align: top;\n",
              "    }\n",
              "\n",
              "    .dataframe thead th {\n",
              "        text-align: right;\n",
              "    }\n",
              "</style>\n",
              "<table border=\"1\" class=\"dataframe\">\n",
              "  <thead>\n",
              "    <tr style=\"text-align: right;\">\n",
              "      <th></th>\n",
              "      <th>Country</th>\n",
              "      <th>Emissions</th>\n",
              "      <th>Population</th>\n",
              "      <th>GDP</th>\n",
              "      <th>Energy</th>\n",
              "    </tr>\n",
              "  </thead>\n",
              "  <tbody>\n",
              "    <tr>\n",
              "      <th>0</th>\n",
              "      <td>Algeria</td>\n",
              "      <td>833.95</td>\n",
              "      <td>43851043.0</td>\n",
              "      <td>1.451639e+11</td>\n",
              "      <td>2309.387128</td>\n",
              "    </tr>\n",
              "    <tr>\n",
              "      <th>1</th>\n",
              "      <td>Argentina</td>\n",
              "      <td>1349.06</td>\n",
              "      <td>45376763.0</td>\n",
              "      <td>3.830670e+11</td>\n",
              "      <td>3417.509121</td>\n",
              "    </tr>\n",
              "    <tr>\n",
              "      <th>2</th>\n",
              "      <td>Australia</td>\n",
              "      <td>2296.11</td>\n",
              "      <td>25687041.0</td>\n",
              "      <td>1.330901e+12</td>\n",
              "      <td>6465.805665</td>\n",
              "    </tr>\n",
              "    <tr>\n",
              "      <th>...</th>\n",
              "      <td>...</td>\n",
              "      <td>...</td>\n",
              "      <td>...</td>\n",
              "      <td>...</td>\n",
              "      <td>...</td>\n",
              "    </tr>\n",
              "    <tr>\n",
              "      <th>66</th>\n",
              "      <td>United States</td>\n",
              "      <td>23028.37</td>\n",
              "      <td>329484123.0</td>\n",
              "      <td>2.093660e+13</td>\n",
              "      <td>101344.099455</td>\n",
              "    </tr>\n",
              "    <tr>\n",
              "      <th>67</th>\n",
              "      <td>Uzbekistan</td>\n",
              "      <td>885.57</td>\n",
              "      <td>34232050.0</td>\n",
              "      <td>5.770719e+10</td>\n",
              "      <td>1872.922562</td>\n",
              "    </tr>\n",
              "    <tr>\n",
              "      <th>68</th>\n",
              "      <td>Vietnam</td>\n",
              "      <td>1357.73</td>\n",
              "      <td>97338583.0</td>\n",
              "      <td>2.711584e+11</td>\n",
              "      <td>4256.932955</td>\n",
              "    </tr>\n",
              "  </tbody>\n",
              "</table>\n",
              "<p>69 rows × 5 columns</p>\n",
              "</div>"
            ],
            "text/plain": [
              "          Country  Emissions   Population           GDP         Energy\n",
              "0         Algeria     833.95   43851043.0  1.451639e+11    2309.387128\n",
              "1       Argentina    1349.06   45376763.0  3.830670e+11    3417.509121\n",
              "2       Australia    2296.11   25687041.0  1.330901e+12    6465.805665\n",
              "..            ...        ...          ...           ...            ...\n",
              "66  United States   23028.37  329484123.0  2.093660e+13  101344.099455\n",
              "67     Uzbekistan     885.57   34232050.0  5.770719e+10    1872.922562\n",
              "68        Vietnam    1357.73   97338583.0  2.711584e+11    4256.932955\n",
              "\n",
              "[69 rows x 5 columns]"
            ]
          },
          "metadata": {},
          "execution_count": 83
        }
      ]
    },
    {
      "cell_type": "markdown",
      "metadata": {
        "id": "p51hhvZRN7VI"
      },
      "source": [
        "Now let's see the differences. We know roughly the orders of magnitudes of populations so we focus on the other terms."
      ]
    },
    {
      "cell_type": "code",
      "metadata": {
        "colab": {
          "base_uri": "https://localhost:8080/",
          "height": 295
        },
        "id": "Aj9dNha8OGrL",
        "outputId": "45070070-bd6a-4533-916b-d781d3d3df54"
      },
      "source": [
        "country_list = ['United States', 'France', 'China', 'Germany']\n",
        "data_plot = data[data['Country'].isin(country_list)]\n",
        "data_plot['gdp_pop'] = data_plot['GDP'] / data_plot['Population']\n",
        "data_plot['energy_gdp'] = data_plot['Energy'] / data_plot['GDP']\n",
        "data_plot['emission_energy'] = data_plot['Emissions'] / data_plot['Energy']\n",
        "data_plot = data_plot.loc[:, ['Country', 'gdp_pop', 'energy_gdp', 'emission_energy']]\n",
        "data_plot\n",
        "pd.melt(data_plot, id_vars = 'Country', value_vars = ['gdp_pop', 'energy_gdp', 'emission_energy']).reset_index()\n"
      ],
      "execution_count": 101,
      "outputs": [
        {
          "output_type": "execute_result",
          "data": {
            "text/html": [
              "<div>\n",
              "<style scoped>\n",
              "    .dataframe tbody tr th:only-of-type {\n",
              "        vertical-align: middle;\n",
              "    }\n",
              "\n",
              "    .dataframe tbody tr th {\n",
              "        vertical-align: top;\n",
              "    }\n",
              "\n",
              "    .dataframe thead th {\n",
              "        text-align: right;\n",
              "    }\n",
              "</style>\n",
              "<table border=\"1\" class=\"dataframe\">\n",
              "  <thead>\n",
              "    <tr style=\"text-align: right;\">\n",
              "      <th></th>\n",
              "      <th>index</th>\n",
              "      <th>Country</th>\n",
              "      <th>variable</th>\n",
              "      <th>value</th>\n",
              "    </tr>\n",
              "  </thead>\n",
              "  <tbody>\n",
              "    <tr>\n",
              "      <th>0</th>\n",
              "      <td>0</td>\n",
              "      <td>China</td>\n",
              "      <td>gdp_pop</td>\n",
              "      <td>10500.395616</td>\n",
              "    </tr>\n",
              "    <tr>\n",
              "      <th>1</th>\n",
              "      <td>1</td>\n",
              "      <td>France</td>\n",
              "      <td>gdp_pop</td>\n",
              "      <td>38625.067385</td>\n",
              "    </tr>\n",
              "    <tr>\n",
              "      <th>2</th>\n",
              "      <td>2</td>\n",
              "      <td>Germany</td>\n",
              "      <td>gdp_pop</td>\n",
              "      <td>45723.644104</td>\n",
              "    </tr>\n",
              "    <tr>\n",
              "      <th>...</th>\n",
              "      <td>...</td>\n",
              "      <td>...</td>\n",
              "      <td>...</td>\n",
              "      <td>...</td>\n",
              "    </tr>\n",
              "    <tr>\n",
              "      <th>9</th>\n",
              "      <td>9</td>\n",
              "      <td>France</td>\n",
              "      <td>emission_energy</td>\n",
              "      <td>0.146989</td>\n",
              "    </tr>\n",
              "    <tr>\n",
              "      <th>10</th>\n",
              "      <td>10</td>\n",
              "      <td>Germany</td>\n",
              "      <td>emission_energy</td>\n",
              "      <td>0.188120</td>\n",
              "    </tr>\n",
              "    <tr>\n",
              "      <th>11</th>\n",
              "      <td>11</td>\n",
              "      <td>United States</td>\n",
              "      <td>emission_energy</td>\n",
              "      <td>0.227230</td>\n",
              "    </tr>\n",
              "  </tbody>\n",
              "</table>\n",
              "<p>12 rows × 4 columns</p>\n",
              "</div>"
            ],
            "text/plain": [
              "    index        Country         variable         value\n",
              "0       0          China          gdp_pop  10500.395616\n",
              "1       1         France          gdp_pop  38625.067385\n",
              "2       2        Germany          gdp_pop  45723.644104\n",
              "..    ...            ...              ...           ...\n",
              "9       9         France  emission_energy      0.146989\n",
              "10     10        Germany  emission_energy      0.188120\n",
              "11     11  United States  emission_energy      0.227230\n",
              "\n",
              "[12 rows x 4 columns]"
            ]
          },
          "metadata": {},
          "execution_count": 101
        }
      ]
    },
    {
      "cell_type": "code",
      "metadata": {
        "id": "qfnBY1SnPmCp"
      },
      "source": [
        "g = sns.FacetGrid(tips, row=\"sex\")"
      ],
      "execution_count": null,
      "outputs": []
    }
  ]
}