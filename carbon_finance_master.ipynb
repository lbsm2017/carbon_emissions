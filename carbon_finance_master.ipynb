{
  "nbformat": 4,
  "nbformat_minor": 0,
  "metadata": {
    "colab": {
      "name": "carbon_finance_master.ipynb",
      "provenance": [],
      "collapsed_sections": [],
      "authorship_tag": "ABX9TyNsPEHbUIA+Xew1lK82ZW5O",
      "include_colab_link": true
    },
    "kernelspec": {
      "name": "python3",
      "display_name": "Python 3"
    },
    "language_info": {
      "name": "python"
    }
  },
  "cells": [
    {
      "cell_type": "markdown",
      "metadata": {
        "id": "view-in-github",
        "colab_type": "text"
      },
      "source": [
        "<a href=\"https://colab.research.google.com/github/shokru/carbon_emissions/blob/main/carbon_finance_master.ipynb\" target=\"_parent\"><img src=\"https://colab.research.google.com/assets/colab-badge.svg\" alt=\"Open In Colab\"/></a>"
      ]
    },
    {
      "cell_type": "markdown",
      "metadata": {
        "id": "XhC7Xr1ivKXT"
      },
      "source": [
        "# A quick tour on sustainable investing\n",
        "\n",
        "## The landscape of green investments (with a focus on France)\n",
        "\n",
        "(this section is inspired by work from L. Piètre-Cambacédès)\n",
        "\n",
        "### Green labels\n",
        "\n",
        "<img align=right src=http://www.gcoqueret.com/files/misc/carbon/labels.jpg width=\"150\"/>\n",
        "\n",
        "- Label [**ISR**](https://www.lelabelisr.fr) (investissement socialement responsable): launched in 2016 by the Ministry of the Economy and Finance, but updated regularly (2020 last time). Focused on French funds. Six pillars, with ESG at the center, and evaluation of **impact**.\n",
        "- Label [**GreenFin**](https://www.ecologie.gouv.fr/label-greenfin): created in 2015 by Ministry of the Ecological Transition, but certified by third parties such as Novethic, EY France and Afnor. It forbids investment in fossil fuel companies as well as in those producing nuclear energy.\n",
        "- Label [**Finansol**](https://www.finance-fair.org/pourquoi-un-label/): created in 1997 by a non-for-profit association and attributed by a group of independent experts.\n",
        "- Label [**Finance Participative pour une Croissance Verte**](https://financeparticipative.org/label-croissance-verte/): a label dedicated to **crowdfunding**.  The labelling is done by independent platforms. \n",
        "- Label [**CIES pour l’épargne salariale**](http://www.ci-es.org/labellisation/): dedicated to savings and mostly focused on social and governance pillars.\n",
        "\n",
        "### Green investment solutions\n",
        "\n",
        "- **green savings accounts**:  livret de développement durable et solidaire ([LDDS](https://www.service-public.fr/particuliers/vosdroits/F2368)),  livret d’épargne populaire ([LEP](https://www.service-public.fr/particuliers/vosdroits/F2367)), [livret NEF](https://www.lanef.com/particuliers/livret-nef/)\n",
        "- **standard savings media**, like life insurance, or the French plan d'épargne en actions (PEA), can be certified by green labels.  \n",
        "- **green bonds** are bonds issued to finance green projects (e.g., that have social or environmental benefits). Portfolios of such bonds can be packaged in tradeable funds, and many have quote on [Yahoo Finance](https://finance.yahoo.com/quote/CGAFX/).  \n",
        "- **green equity trackers** (Equity Traded Funds): it's impossible for retail investors to invest in many green stocks to obtain sufficient diversification. ETFs are here to help. However, the rules that set the portfolio composition are often opaque. **ESG** comes in many flavours...\n",
        "- **green crowdfunding** platforms: [Miimosa](https://www.miimosa.com/), [Lita](www.lita.co), [Wiseed](https://www.wiseed.com/), [Zeste](https://www.zeste.coop/),  [Lumo](https://www.lumo-france.com/) (like [Enerfip](https://enerfip.fr/), for green energy projects), [WeDoGood](https://www.wedogood.co/) (via royalties),  [Blue Bees](https://bluebees.fr/) (for agricultural & rural projects).\n",
        "\n",
        "### Green institutions\n",
        "\n",
        "So-called \"*green banks*\": [Hélios](https://www.helios.do), [OnlyOne](https://onlyonecard.eu), [Green Got](https://green-got.com), [Bunq](https://fr.bunq.com) (one offer in particular), [La Nef](https://www.lanef.com). It's hard to grasp the sincerity of their commitment.\n",
        "[Goodvest](https://goodvest.fr) and [Moka](https://moka.ai) for investing & saving.\n",
        "\n",
        "Traditional banks that are tilted toward green: **Crédit Coopératif** and **Banque Postale**.\n",
        "\n",
        "\n",
        "## A comparison of green versus brown funds\n",
        "\n",
        "In [this notebook](https://colab.research.google.com/drive/1qzgMUfAa6WrZAsezlWGhS7cnyiCvML0J?usp=sharing), we compare the performance of the S&P500 to that of the MSCI USA ESG Select ETF, which is the so-called green fund for which the history has the longest depth. We show the comparison in annual returns below:\n",
        "![](https://www.gcoqueret.com/files/misc/carbon/return_comp.png)\n",
        "\n",
        "There is no pronounced difference: some years are good for the green fund, some not.\n",
        "\n",
        "## Emission-based portfolio construction\n",
        "\n",
        "Nowadays, most (financial) data vendors provide information about the emissions of firms. The **scope and quality** of the data can vary substantially from one vendor to another, depending on the firm or the data field. Here is one example (snapshot) below, from **Bloomberg**.\n",
        "\n",
        "![](https://www.gcoqueret.com/files/misc/carbon/AAPL_ESG.gif)\n",
        "\n",
        "In [this noteboook](https://colab.research.google.com/drive/10W5rD6vbSIQyVxg-CSJEzxwiN_gwDcZ3?usp=sharing), we take a closer look at portfolios that are built on GHG emission criteria.\n"
      ]
    }
  ]
}