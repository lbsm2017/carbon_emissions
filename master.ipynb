{
  "nbformat": 4,
  "nbformat_minor": 0,
  "metadata": {
    "colab": {
      "name": "master.ipynb",
      "provenance": [],
      "collapsed_sections": [],
      "authorship_tag": "ABX9TyPQ5ilvViFXKgHgeVdTgp9d",
      "include_colab_link": true
    },
    "kernelspec": {
      "name": "python3",
      "display_name": "Python 3"
    },
    "language_info": {
      "name": "python"
    }
  },
  "cells": [
    {
      "cell_type": "markdown",
      "metadata": {
        "id": "view-in-github",
        "colab_type": "text"
      },
      "source": [
        "<a href=\"https://colab.research.google.com/github/shokru/carbon_emissions/blob/main/master.ipynb\" target=\"_parent\"><img src=\"https://colab.research.google.com/assets/colab-badge.svg\" alt=\"Open In Colab\"/></a>"
      ]
    },
    {
      "cell_type": "markdown",
      "metadata": {
        "id": "PC3fD_QyvX1x"
      },
      "source": [
        "Overview of a course on the 4Es:\n",
        "# Energy, Emissions, Economy & Environment\n",
        "\n",
        "## Overview\n",
        "This notebook is the central document of a course dedicated to the impact of **economic activities** on **global warming**.   \n",
        "It's purpose, by design and function, is purely **pedagogical**.  \n",
        "It aims to provide open source material and analysis on the links between **human production**, **emissions** and **temperature** trends over the past years and decades.  \n",
        "Basically, the process we follow is based on the scheme below which summarizes the  relationships between the variables of interest. The causality of the relations is more or less debated. \n",
        "\n",
        "\n",
        "<img src=http://www.gcoqueret.com/files/misc/carbon/carbon_scheme.png width=\"860\"/>\n",
        "\n",
        "\n",
        "The **scientific consensus** is now that <a href=\"https://climate.nasa.gov/scientific-consensus/\" target=\"_blank\">temperatures are rising</a> and that <a href=\"https://en.wikipedia.org/wiki/Scientific_consensus_on_climate_change\" target=\"_blank\">climate change is anthropogenic</a>, i.e., largely a consequence of human activities.   \n",
        "The most detailed views on the topic are published every 5-7 years by the Intergovernmental Panel on Climate Change (<a href=\"https://www.ipcc.ch/\" target=\"_blank\">IPCC</a>)."
      ]
    },
    {
      "cell_type": "markdown",
      "metadata": {
        "id": "i-qS2eJYBn8y"
      },
      "source": [
        "## Notebook structure\n",
        "\n",
        "<img align=right src=http://www.gcoqueret.com/files/misc/carbon/carbon_summary.png width=\"600\"/>\n",
        "\n",
        "The material consists mainly of Jupyter Notebooks (like this one, with an *.ipynb* extension) hosted on the **Google Colab** platform. This allows everyone to run the code online and to perform custom analyses (e.g., on particular countries or sectors).   \n",
        "In order to simplifiy the content of the notebooks (e.g., not having too many variables), the analysis was split in blocks.  \n",
        "Each block is focused on the link between two types of variables (see diagram on the right). \n",
        "The links to these **notebooks** (the heart of the course) can be found below:\n",
        "\n",
        "\n",
        "- [energy and the econoomy (GDP)](https://colab.research.google.com/drive/1SD4wmbI5REYrwXP-npuMEmo3WUDtpKhS?usp=sharing) \n",
        "- [energy and emissions (carbon and GHG)](https://colab.research.google.com/drive/1cGvqbKHAnQxKx-chVqppkDu93th50YPN?usp=sharing)\n",
        "- [economy and emissions](https://colab.research.google.com/drive/1O3rVphHenJkcx5J1gYhBm0TMtOFMvWY6?usp=sharing)    \n",
        "- [economy and temperature](https://colab.research.google.com/drive/1j7B-hCNkZAwzfTp7G0LPwb1THnzk4EnG?usp=sharing)\n",
        "\n",
        "\n",
        "\n"
      ]
    },
    {
      "cell_type": "markdown",
      "metadata": {
        "id": "8Hik0ZCaDZBK"
      },
      "source": [
        "## The Kaya identity\n",
        "\n",
        "We then spend some time on an important rerepsentation that helps understand **how** we can reduce emissions, i.e., which are the very simple macro channels that are at stake.  \n",
        "The **Kaya identity** was developed by Japanese economists Yoichi Kaya and Keiichi Yokobori in the 1990s. Its purpose is to decompose $CO_2$ emissions into simple chain blocks that are responsible for them. Its statement is:\n",
        "\n",
        "$CO_2=POP \\times \\frac{GDP}{POP} \\times \\frac{E}{GDP} \\times \\frac{CO_2}{E},$  \n",
        "where $E$ is energy, $GDP$ is economic output and $POP$ is population. Thus:  \n",
        "- $\\frac{CO_2}{E}$ is how much $CO_2$ we need to produce a given amount of energy;  \n",
        "- $\\frac{E}{GDP}$ is how much energy we need to create economic values;  \n",
        "- $\\frac{GDP}{POP}$, GDP per capita, is a proxy for aggregate standard of living.  \n",
        "\n",
        "Therefore, mechanically, if we want to **reduce emissions**, we have to curtail one or several of these terms. Here are some comments:\n",
        "\n",
        "- $\\frac{CO_2}{E}$: this requires for instance shifting energy production to non carbon-based sources (nuclear, renewables);  \n",
        "- $\\frac{E}{GDP}$: this means being able to produce more efficiently, with lower energy input;  \n",
        "- $\\frac{GDP}{POP}$: this implies to accept possibly lower standards of living (e.g., travelling less, eating less meat, buying fewer clothes, etc. - consuming less in short);\n",
        "- $POP$: this one is easy to understand...\n",
        "\n",
        "It is interesting to compare the terms of the identity across countries.  \n",
        "This is done in the following [Colab notebook](https://colab.research.google.com/drive/1x-ankn-VKVes5BXU3UC6nIvkh48-__De?usp=sharing).\n"
      ]
    },
    {
      "cell_type": "markdown",
      "metadata": {
        "id": "jjf1QqOyMtgV"
      },
      "source": [
        "## The DICE mode of Nordhaus\n",
        "\n",
        "William Nordhaus was one of the two recipients of the **<a href=\"https://www.nobelprize.org/prizes/economic-sciences/2018/summary/\" target=\"_blank\">2018 Nobel Prize in Economics</a>**.[^1]   \n",
        "He was rewarded for his work on the relationship between the economy and global warming.   \n",
        "He \"invented\" the **DICE model** (Dynamic Integrated model of Climate and the Economy), which we briefly summarize below.\n",
        "\n",
        "[^1]: In 2021, **<a href=\"https://www.nobelprize.org/prizes/physics/2021/summary/\" target=\"_blank\">two Nobel Prize recepients in Physics</a>** (Syukuro Manabe and Klaus Hasselmann) were rewarded for their work on modelling climate change. \n",
        "\n",
        "There are many variations around climate-sensitive economic models. The one we outline below is that of [Revisiting the social cost of carbon](https://www.pnas.org/content/114/7/1518) - by Nordhaus.  \n",
        "The model can be broken down into several modules.   \n",
        "### Economy\n",
        "The first is the economy and the important aggregate quantity is global welfare:\n",
        "$$W=\\sum_{t=1}^T U(c_t)L_tR_t,$$\n",
        "where:\n",
        "- $U$ is a **utility function** (often taken to be of CRRA type: $U(c)=u^{1-\\alpha}/(1-\\alpha)$),   \n",
        "- $c_t$ is **per-capita consumption**,  \n",
        "- $L_t$ is **population** (labor), and  \n",
        "- $R_t=(1+\\rho)^{-t}$ is the **discount factor on welfare** ($\\rho$ being the pure rate of social time preference, often taken to be between 0% and 3%).  \n",
        "Moreover, **net output** $Q_t$ is equal to total consumption $C_t=c_tL_t$ plus **gross investment** $I_t$, i.e., $Q_t=C_t+I_t$, which is also equal to\n",
        "$$Q_t=\\Omega_t(1-\\Lambda_t)Y_t,$$\n",
        "where $Y_t$ is *gross* output and $\\Omega_t$ is a **damage function**. Moreover, $\\Lambda_t$ is a **abatement-cost function**. This implies that we try to mitigate the harm we make to the environment, but this has a cost. \n",
        "\n",
        "These elements are found in the left (blue) part of the diagram below.\n",
        "\n",
        "<img src=http://www.gcoqueret.com/files/misc/carbon/DICE.png width=\"800\"/>\n",
        "\n",
        "### The damage function\n",
        "\n",
        "The equation above is important because it determines the joint effect of **damages** to the economy ($\\Omega_t$) generated by climate imbalance **and** the cost of the effort to try to mitigate them ($\\Lambda_t$). \n",
        "For simplicity, the cost of global warming is a quadratic function of temperature change, which we write $TAT_t$:\n",
        "$$\\Omega_t=\\psi_1 TAT_t + \\psi_2TAT_t^2.$$\n",
        "Of course the second term has crucial implications: it implies that the impact of temperature changes on damages is **not** linear.\n",
        "\n",
        "### The environment\n",
        "\n",
        "Finally, the last block of the model pertains to the dynamics of climate. \n",
        "\n",
        "\n",
        "### Implementation\n",
        "\n",
        "The DICE model is hard to code! Luckily, a few researchers have done the job for us. \n",
        "One example is provided in this [Colab notebook](https://colab.research.google.com/drive/1QE2_olK323g1JFECnOJUv2PZMqQfVSJn?usp=sharing).\n",
        "\n"
      ]
    }
  ]
}